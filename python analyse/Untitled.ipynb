{
 "cells": [
  {
   "cell_type": "markdown",
   "id": "6350660d-0258-4b89-95a5-e9a946595bbd",
   "metadata": {},
   "source": [
    "# Projet : Analyse des Milliardaires Mondiaux 💸\r\n",
    "\r\n",
    "## Description :\r\n",
    "Ce projet va nous donner un aperçu sur les personnes les plus riches du monde. En utilisant Excel, Python et Power BI, on va essayer de comprendre comment la richesse est répartie, qui sont ces milliardaires, et quelles sont les statistiques clés selon les régions et les industries. En gros, on va examiner ce qui contribue à l'accumulation des fortunes.\r\n",
    "\r\n",
    "## Le Workflow 🤖 :\r\n",
    "\r\n",
    "1. **Excel** 🧼: D'abord, on commence par nettoyer les données, un peu comme quand on range sa chambre à la dernière minute. On fait une exploration de base et quelques visualisations pour voir les premières tendances.\r\n",
    "\r\n",
    "2. **Python** 🐍: Ensuite, on passe aux choses sérieuses. Avec des bibliothèques comme Pandas et Matplotlib, on va manipuler les données, faire des analyses avancées et chercher des insights plus profonds.\r\n",
    "\r\n",
    "3. **Power BI** 📊: Pour finir, on crée un tableau de bord interactif qui permettra de naviguer facilement dans les données et d'explorer les résultats de manière dynamique.\r\n",
    "\r\n",
    "## Objectif 🏆 :\r\n",
    "L’objectif est d’avoir une compréhension claire et détaillée de la répartition des milliardaires à travers le monde, d'identifier les modèles de richesse, et de voir comment certains secteurs et régions contribuent à l’accumulation des fortunes. 🚀\r\n"
   ]
  },
  {
   "cell_type": "markdown",
   "id": "b3a76198-4666-4185-9379-bd6fd5181fca",
   "metadata": {},
   "source": [
    "---"
   ]
  },
  {
   "cell_type": "markdown",
   "id": "bccb3571-3f69-46a0-bdc3-e476a546824b",
   "metadata": {},
   "source": []
  },
  {
   "cell_type": "markdown",
   "id": "c6b862f1-d6e3-4529-a7f3-a1310f02de44",
   "metadata": {},
   "source": [
    "---"
   ]
  },
  {
   "cell_type": "markdown",
   "id": "41ccfa79-3d60-4b50-80cc-f16729768f3d",
   "metadata": {},
   "source": [
    "# Questions pour l'Analyse des Milliardaires Mondiaux 💸\n",
    "\n",
    "1. Combien y a-t-il de milliardaires dans chaque pays ? 🌍\n",
    "2. Quelle est la fortune moyenne dans chaque pays ? 💰\n",
    "3. Qui est le milliardaire le plus riche dans chaque pays ? 👑\n",
    "4. Quelle industrie a le plus grand nombre de milliardaires ? 🏭\n",
    "5. Combien de milliardaires sont jeunes en âge ? 🎂\n",
    "6. Qui est le plus jeune milliardaire au monde ? 👶\n",
    "7. Quel est l'âge moyen des milliardaires ? 🧓\n",
    "8. Quelle est la relation entre l'âge et la fortune ? 📊\n",
    "9. Quels pays ont la plus grande richesse totale ? 🏦\n",
    "10. Combien de milliardaires ont la même source de richesse ? 💼\n",
    "11. Quel est le rang moyen des milliardaires selon l'âge ? 🏅\n",
    "12. Les industries spécifiques génèrent-elles plus de richesse ? 🔍\n",
    "13. Qui sont les 10 milliardaires les plus riches ? 👑\n",
    "14. Quelles industries ont les plus jeunes milliardaires ? 💼👶\n",
    "15. Combien de milliardaires y a-t-il dans chaque tranche d'âge ? 🧓👶\n",
    "16. Quels pays ont les plus jeunes milliardaires ? 🌏\n",
    "17. Quelles industries ont la plus haute fortune moyenne ? 🏢💸\n",
    "18. Qui sont les milliardaires qui occupent le premier rang dans chaque industrie ? 🥇\n",
    "19. Combien de milliardaires viennent de la même industrie dans chaque pays ? 🏭🌍\n",
    "20. Combien de milliardaires ont une fortune au-dessus de la moyenne mondiale ? 📈\n"
   ]
  },
  {
   "cell_type": "markdown",
   "id": "994e1917-18f1-4e77-8fd6-6afe595cc129",
   "metadata": {},
   "source": [
    "# let's goooooooo"
   ]
  },
  {
   "cell_type": "code",
   "execution_count": 1,
   "id": "d6c351a2-353b-4eba-8a09-d65c26037400",
   "metadata": {},
   "outputs": [],
   "source": [
    "import pandas as pd \n",
    "import numpy as np\n",
    "import matplotlib.pyplot as plt\n",
    "import seaborn as sns\n",
    "from scipy.stats import stats\n",
    "from scipy import stats"
   ]
  },
  {
   "cell_type": "code",
   "execution_count": 2,
   "id": "9e939f63-ecf1-4619-860e-674fa6f42580",
   "metadata": {},
   "outputs": [
    {
     "data": {
      "text/html": [
       "<div>\n",
       "<style scoped>\n",
       "    .dataframe tbody tr th:only-of-type {\n",
       "        vertical-align: middle;\n",
       "    }\n",
       "\n",
       "    .dataframe tbody tr th {\n",
       "        vertical-align: top;\n",
       "    }\n",
       "\n",
       "    .dataframe thead th {\n",
       "        text-align: right;\n",
       "    }\n",
       "</style>\n",
       "<table border=\"1\" class=\"dataframe\">\n",
       "  <thead>\n",
       "    <tr style=\"text-align: right;\">\n",
       "      <th></th>\n",
       "      <th>Name</th>\n",
       "      <th>NetWorth (B)</th>\n",
       "      <th>Wealth Category</th>\n",
       "      <th>Country</th>\n",
       "      <th>Source</th>\n",
       "      <th>Rank</th>\n",
       "      <th>Age</th>\n",
       "      <th>Age Group</th>\n",
       "      <th>Industry</th>\n",
       "    </tr>\n",
       "  </thead>\n",
       "  <tbody>\n",
       "    <tr>\n",
       "      <th>0</th>\n",
       "      <td>Jeff Bezos</td>\n",
       "      <td>177.0</td>\n",
       "      <td>Milliardaires très riches</td>\n",
       "      <td>United States</td>\n",
       "      <td>Amazon</td>\n",
       "      <td>1</td>\n",
       "      <td>57.0</td>\n",
       "      <td>Adulte</td>\n",
       "      <td>Technology</td>\n",
       "    </tr>\n",
       "    <tr>\n",
       "      <th>1</th>\n",
       "      <td>Elon Musk</td>\n",
       "      <td>151.0</td>\n",
       "      <td>Milliardaires très riches</td>\n",
       "      <td>United States</td>\n",
       "      <td>Tesla, SpaceX</td>\n",
       "      <td>2</td>\n",
       "      <td>49.0</td>\n",
       "      <td>Adulte</td>\n",
       "      <td>Automotive</td>\n",
       "    </tr>\n",
       "    <tr>\n",
       "      <th>2</th>\n",
       "      <td>Bernard Arnault &amp; family</td>\n",
       "      <td>150.0</td>\n",
       "      <td>Milliardaires très riches</td>\n",
       "      <td>France</td>\n",
       "      <td>LVMH</td>\n",
       "      <td>3</td>\n",
       "      <td>72.0</td>\n",
       "      <td>Âgé</td>\n",
       "      <td>Fashion &amp; Retail</td>\n",
       "    </tr>\n",
       "    <tr>\n",
       "      <th>3</th>\n",
       "      <td>Bill Gates</td>\n",
       "      <td>124.0</td>\n",
       "      <td>Milliardaires très riches</td>\n",
       "      <td>United States</td>\n",
       "      <td>Microsoft</td>\n",
       "      <td>4</td>\n",
       "      <td>65.0</td>\n",
       "      <td>Âgé</td>\n",
       "      <td>Technology</td>\n",
       "    </tr>\n",
       "    <tr>\n",
       "      <th>4</th>\n",
       "      <td>Mark Zuckerberg</td>\n",
       "      <td>97.0</td>\n",
       "      <td>Milliardaires très riches</td>\n",
       "      <td>United States</td>\n",
       "      <td>Facebook</td>\n",
       "      <td>5</td>\n",
       "      <td>36.0</td>\n",
       "      <td>Jeune</td>\n",
       "      <td>Technology</td>\n",
       "    </tr>\n",
       "  </tbody>\n",
       "</table>\n",
       "</div>"
      ],
      "text/plain": [
       "                       Name  NetWorth (B)            Wealth Category  \\\n",
       "0                Jeff Bezos         177.0  Milliardaires très riches   \n",
       "1                 Elon Musk         151.0  Milliardaires très riches   \n",
       "2  Bernard Arnault & family         150.0  Milliardaires très riches   \n",
       "3                Bill Gates         124.0  Milliardaires très riches   \n",
       "4           Mark Zuckerberg          97.0  Milliardaires très riches   \n",
       "\n",
       "         Country         Source  Rank   Age Age Group          Industry  \n",
       "0  United States         Amazon     1  57.0    Adulte        Technology  \n",
       "1  United States  Tesla, SpaceX     2  49.0    Adulte        Automotive  \n",
       "2         France           LVMH     3  72.0       Âgé  Fashion & Retail  \n",
       "3  United States      Microsoft     4  65.0       Âgé        Technology  \n",
       "4  United States       Facebook     5  36.0     Jeune        Technology  "
      ]
     },
     "execution_count": 2,
     "metadata": {},
     "output_type": "execute_result"
    }
   ],
   "source": [
    "df = pd.read_excel(r\"C:\\Users\\Lenovo\\Desktop\\Project Aymen\\Billionaires Analysis with Python\\Billionaires data\\Billionaires Data Transform .xlsx\")\n",
    "df.head()"
   ]
  },
  {
   "cell_type": "markdown",
   "id": "c47b9f46-773f-463f-8ed7-7212b61e2002",
   "metadata": {},
   "source": [
    "# Explication des Colonnes du Projet d'Analyse des Milliardaires Mondiaux 📊\r\n",
    "\r\n",
    "1. **Name**  \r\n",
    "   Nom des milliardaires.\r\n",
    "\r\n",
    "2. **NetWorth**  \r\n",
    "   Valeur nette de chaque milliardaire.\r\n",
    "\r\n",
    "3. **Country**  \r\n",
    "   Pays d'origine des milliardaires.\r\n",
    "\r\n",
    "4. **Source**  \r\n",
    "   Origine de leur richesse (entreprises, investissements, etc.).\r\n",
    "\r\n",
    "5. **Rank**  \r\n",
    "   Rang de chaque milliardaire selon leur fortune.\r\n",
    "\r\n",
    "6. **Age**  \r\n",
    "   Âge des milliardaires.\r\n",
    "\r\n",
    "7. **Industry**  \r\n",
    "   Industrie dans laquelle chaque milliardaire opère.\r\n",
    "onger dans les données ?\r\n"
   ]
  },
  {
   "cell_type": "markdown",
   "id": "0aaaf478-9b70-4b5b-96c3-5dfc3fb514b0",
   "metadata": {},
   "source": [
    "# Inspection des données : Un petit coup d'œil 👀\r\n",
    "\r\n",
    "Avant de commencer avec nos milliardaires, on a regardé nos données de près. On veut être sûr que tout est bien en place tats :\r\n",
    "\r\n",
    "ntes :\r\n",
    "\r\n"
   ]
  },
  {
   "cell_type": "markdown",
   "id": "a4f720b2-dd95-45b8-b34a-00d0be0a2161",
   "metadata": {},
   "source": [
    "---"
   ]
  },
  {
   "cell_type": "markdown",
   "id": "3307887c-9f37-47ee-9f55-86ec6f668722",
   "metadata": {},
   "source": [
    "\n",
    "## 1. **Des colonnes vides ?**\n",
    "\n",
    "Voici le résumé des valeurs manquantes :"
   ]
  },
  {
   "cell_type": "code",
   "execution_count": 3,
   "id": "28901701-0cef-49fa-a087-3bc420e379ed",
   "metadata": {},
   "outputs": [
    {
     "data": {
      "text/plain": [
       "Name                0\n",
       "NetWorth (B)        0\n",
       "Wealth Category     0\n",
       "Country             0\n",
       "Source              0\n",
       "Rank                0\n",
       "Age                79\n",
       "Age Group           0\n",
       "Industry            0\n",
       "dtype: int64"
      ]
     },
     "execution_count": 3,
     "metadata": {},
     "output_type": "execute_result"
    }
   ],
   "source": [
    "df.isna().sum()"
   ]
  },
  {
   "cell_type": "markdown",
   "id": "cb2a16fc-24b2-490b-b3be-6d703ee16bb6",
   "metadata": {},
   "source": [
    "On a trouvé un problème avec la colonne **Age**. Il manque 79 valeurs. C'est peut-être des milliardaires qui préfèrent garder leur âge secret... \n",
    "\n",
    "Bon, on va pas laisser ça comme ça... Il est temps de faire un peu de magie de données ! \n"
   ]
  },
  {
   "cell_type": "markdown",
   "id": "07d61a18-a128-4561-98d7-0c31be517279",
   "metadata": {},
   "source": [
    "\n",
    "##  **Remplir les âges manquants avec la moyenne**\n",
    "\n",
    "Pour éviter les problèmes, on va remplacer les âges manquants par l'âge moyen. Comme ça, tout le monde aura un âge, même ceux qui l'ont oublié ! \n"
   ]
  },
  {
   "cell_type": "code",
   "execution_count": 4,
   "id": "6e294a85-73fc-4ecb-8862-51ccd04c8a3a",
   "metadata": {
    "scrolled": true
   },
   "outputs": [
    {
     "data": {
      "text/plain": [
       "Name               0\n",
       "NetWorth (B)       0\n",
       "Wealth Category    0\n",
       "Country            0\n",
       "Source             0\n",
       "Rank               0\n",
       "Age                0\n",
       "Age Group          0\n",
       "Industry           0\n",
       "dtype: int64"
      ]
     },
     "execution_count": 4,
     "metadata": {},
     "output_type": "execute_result"
    }
   ],
   "source": [
    "mean_age = df['Age'].mean()\n",
    "df['Age'] = df['Age'].fillna(mean_age)\n",
    "df.isna().sum()"
   ]
  },
  {
   "cell_type": "markdown",
   "id": "c485847b-743f-4064-bb14-f99b3c1d4024",
   "metadata": {},
   "source": [
    "---\n",
    "# 2. Valeurs dupliquées\n",
    "## Deuxième vérification, est-ce qu'on a des doublons ?"
   ]
  },
  {
   "cell_type": "code",
   "execution_count": 5,
   "id": "1bcf46d4-86f2-4ad3-958f-c20f88974edd",
   "metadata": {},
   "outputs": [
    {
     "data": {
      "text/plain": [
       "0"
      ]
     },
     "execution_count": 5,
     "metadata": {},
     "output_type": "execute_result"
    }
   ],
   "source": [
    "df.duplicated().sum()"
   ]
  },
  {
   "cell_type": "markdown",
   "id": "dc40e492-d8dd-42a9-8dc8-9dfb93b460de",
   "metadata": {},
   "source": [
    "# Résultat :\n",
    "## 0 doublons ! \n",
    "- Pas de données répétées, tout est unique et bien structuré. Franchement, c’est rare qu’on ait une data aussi clean dès le départ !?"
   ]
  },
  {
   "cell_type": "markdown",
   "id": "edc92358-f86d-499f-9280-6749f4fc22b1",
   "metadata": {},
   "source": [
    "---"
   ]
  },
  {
   "cell_type": "markdown",
   "id": "cf8e499a-6d1c-4979-bf69-135b9c859e2b",
   "metadata": {},
   "source": [
    "# 3. Infos sur les colonnes 🧐\n",
    "\n",
    "## Un dernier coup d’œil sur les types de données et quelques stats générales"
   ]
  },
  {
   "cell_type": "code",
   "execution_count": 6,
   "id": "7ac89b0a-7a3f-48a4-8700-e71f688f5203",
   "metadata": {},
   "outputs": [
    {
     "name": "stdout",
     "output_type": "stream",
     "text": [
      "<class 'pandas.core.frame.DataFrame'>\n",
      "RangeIndex: 2755 entries, 0 to 2754\n",
      "Data columns (total 9 columns):\n",
      " #   Column           Non-Null Count  Dtype  \n",
      "---  ------           --------------  -----  \n",
      " 0   Name             2755 non-null   object \n",
      " 1   NetWorth (B)     2755 non-null   float64\n",
      " 2   Wealth Category  2755 non-null   object \n",
      " 3   Country          2755 non-null   object \n",
      " 4   Source           2755 non-null   object \n",
      " 5   Rank             2755 non-null   int64  \n",
      " 6   Age              2755 non-null   float64\n",
      " 7   Age Group        2755 non-null   object \n",
      " 8   Industry         2755 non-null   object \n",
      "dtypes: float64(2), int64(1), object(6)\n",
      "memory usage: 193.8+ KB\n"
     ]
    }
   ],
   "source": [
    "df.info()"
   ]
  },
  {
   "cell_type": "markdown",
   "id": "1ab7ddc1-0d2c-4768-8a9c-1255febd823d",
   "metadata": {},
   "source": [
    "Ce qu’on voit ici :\r\n",
    "\r\n",
    "- **2755 entrées** : donc on a bien **2755 milliardaires** dans notre base de données. Pas mal, non ? 💰\r\n",
    "- **9 colonnes** avec différents types de données :\r\n",
    "  - **6 colonnes texte** (nom, pays, etc.)\r\n",
    "  - **2 colonnes numériques avec virgule** (fortune en milliards et âge) — eh oui, on parle en milliards ici, c’est pas rien !\r\n",
    "  - **1 colonne entière** (le classement des milliardaires, de 1 à 2755)\r\n",
    "\r\n",
    "Tout est bien propre et prêt pour l’analyse. Alors, c’est parti pour décortiquer la richesse ! 💸\r\n"
   ]
  },
  {
   "cell_type": "markdown",
   "id": "3608162b-b60e-4ba6-830b-d407b68178bd",
   "metadata": {},
   "source": [
    "---\n",
    "---"
   ]
  },
  {
   "cell_type": "markdown",
   "id": "091c6dcf-5398-462d-aab4-614763feee48",
   "metadata": {},
   "source": [
    "# Analyse statistique descriptive 📊\r\n",
    "\r\n",
    "Bon, il est temps de plonger dans les chiffres et de voir ce que ces milliardaires ont dans le ventre (ou plutôt, dans leurs portefeuilles). 😄\r\n",
    "\r\n",
    "## 1. **Statistiques générales**\r\n",
    "\r\n",
    "On va commencer par jeter un œil aux statistiques de base des colonnes numériques : la fortune en milliards et l'âge. Ça nous donnera une idée des tendances généscribe()\r\n"
   ]
  },
  {
   "cell_type": "code",
   "execution_count": 7,
   "id": "4b18af0e-126d-4d04-a1d3-dd9f61b3d0be",
   "metadata": {},
   "outputs": [
    {
     "data": {
      "text/html": [
       "<div>\n",
       "<style scoped>\n",
       "    .dataframe tbody tr th:only-of-type {\n",
       "        vertical-align: middle;\n",
       "    }\n",
       "\n",
       "    .dataframe tbody tr th {\n",
       "        vertical-align: top;\n",
       "    }\n",
       "\n",
       "    .dataframe thead th {\n",
       "        text-align: right;\n",
       "    }\n",
       "</style>\n",
       "<table border=\"1\" class=\"dataframe\">\n",
       "  <thead>\n",
       "    <tr style=\"text-align: right;\">\n",
       "      <th></th>\n",
       "      <th>NetWorth (B)</th>\n",
       "      <th>Age</th>\n",
       "    </tr>\n",
       "  </thead>\n",
       "  <tbody>\n",
       "    <tr>\n",
       "      <th>count</th>\n",
       "      <td>2755.000000</td>\n",
       "      <td>2755.000000</td>\n",
       "    </tr>\n",
       "    <tr>\n",
       "      <th>mean</th>\n",
       "      <td>4.749220</td>\n",
       "      <td>63.113602</td>\n",
       "    </tr>\n",
       "    <tr>\n",
       "      <th>std</th>\n",
       "      <td>9.615358</td>\n",
       "      <td>13.250909</td>\n",
       "    </tr>\n",
       "    <tr>\n",
       "      <th>min</th>\n",
       "      <td>1.000000</td>\n",
       "      <td>18.000000</td>\n",
       "    </tr>\n",
       "    <tr>\n",
       "      <th>25%</th>\n",
       "      <td>1.500000</td>\n",
       "      <td>54.000000</td>\n",
       "    </tr>\n",
       "    <tr>\n",
       "      <th>50%</th>\n",
       "      <td>2.300000</td>\n",
       "      <td>63.000000</td>\n",
       "    </tr>\n",
       "    <tr>\n",
       "      <th>75%</th>\n",
       "      <td>4.200000</td>\n",
       "      <td>72.000000</td>\n",
       "    </tr>\n",
       "    <tr>\n",
       "      <th>max</th>\n",
       "      <td>177.000000</td>\n",
       "      <td>99.000000</td>\n",
       "    </tr>\n",
       "  </tbody>\n",
       "</table>\n",
       "</div>"
      ],
      "text/plain": [
       "       NetWorth (B)          Age\n",
       "count   2755.000000  2755.000000\n",
       "mean       4.749220    63.113602\n",
       "std        9.615358    13.250909\n",
       "min        1.000000    18.000000\n",
       "25%        1.500000    54.000000\n",
       "50%        2.300000    63.000000\n",
       "75%        4.200000    72.000000\n",
       "max      177.000000    99.000000"
      ]
     },
     "execution_count": 7,
     "metadata": {},
     "output_type": "execute_result"
    }
   ],
   "source": [
    "df[['NetWorth (B)' , 'Age']].describe()"
   ]
  },
  {
   "cell_type": "markdown",
   "id": "f18dc726-f1e6-42ee-8ed7-9d538ac00e95",
   "metadata": {},
   "source": [
    "## **Résultats des statistiques générales**\r\n",
    "\r\n",
    "### Fortune en milliards (NetWorth) 💰\r\n",
    "\r\n",
    "- **Nombre total de milliardaires** : 2755\r\n",
    "- **Fortune moyenne** : 4,75 milliards — tranquille, non ?\r\n",
    "- **Écart type** : 9,61 milliards — il y a de sacrées différences entre les riches !\r\n",
    "- **Minimum** : 1 milliard — oui, oui, c'est \"le plus pauvre\" des milliardaires... 😅\r\n",
    "- **25% des milliardaires** ont une fortune inférieure à 1,5 milliard.\r\n",
    "- **La moitié (50%)** des milliardaires ont moins de 2,3 milliards.\r\n",
    "- **75% des milliardaires** ont moins de 4,2 milliards.\r\n",
    "- **Maximum** : 177 milliards — on se demande bien qui ça peut\n",
    "être... 😎\r\n",
    "\r\n",
    "### Âge des milliardaires 👵👶\r\n",
    "\r\n",
    "- **Âge moyen** : 63 ans — ni trop jeunes, ni trop vieux, ils sont dans la fleur de l'âge !\r\n",
    "- **Écart type** : 13,25 ans — les fortunes n'ont pas d'âge.\r\n",
    "- **Minimum** : 18 ans — imaginez, déjà milliardaire à cet âge !\r\n",
    "- **25% des milliardaires** ont moins de 54 ans.\r\n",
    "- **La moitié (50%)** ont 63 ans — donc c'est l'âge typique d'un milliardaire.\r\n",
    "- **75% ont moins de 72 ans**.\r\n",
    "- **Maximum** : 99 ans — certains ne prennent pas leur retraite de milliardaire... 😄\r\n",
    "\r\n",
    "Voilà de quoi mieux comprendre les chiffres derrière ces fortunes et ces âges ! Prêts pour la suite ? 💸\r\n"
   ]
  },
  {
   "cell_type": "markdown",
   "id": "872aa9e4-bcae-4cfa-8d61-ce28d45faadd",
   "metadata": {},
   "source": [
    "---"
   ]
  },
  {
   "cell_type": "markdown",
   "id": "d5e4ff5c-df15-4af8-b76d-c80d4851463d",
   "metadata": {},
   "source": [
    "## . **Boxplot : Comparaison entre la fortune et l'âge**\n",
    "\n",
    "On a ici un boxplot qui compare la **fortune** (NetWorth en milliards) et l'**âge** de nos milliardaires. Ce graphique nous permet de visualiser les données d'une manière plus simple, et de repérer les valeurs extrêmes (outliers) facilement."
   ]
  },
  {
   "cell_type": "code",
   "execution_count": 8,
   "id": "cbfddcf3-bb9a-4cf4-b4f4-13bd33ea1697",
   "metadata": {},
   "outputs": [
    {
     "data": {
      "image/png": "[encoded data removed]",
      "text/plain": [
       "<Figure size 500x400 with 1 Axes>"
      ]
     },
     "metadata": {},
     "output_type": "display_data"
    }
   ],
   "source": [
    "plt.style.use('dark_background')\n",
    "plt.figure(figsize=(5, 4))  \n",
    "sns.boxplot(data = df[['NetWorth (B)' , 'Age']])\n",
    "plt.title('Boxplot of etWorth (B) and Age', fontsize=15)\n",
    "plt.ylabel('Values')\n",
    "plt.xlabel('Variables')\n",
    "plt.grid(True, linestyle='--', linewidth=0.5, color='gray')\n",
    "plt.show()"
   ]
  },
  {
   "cell_type": "markdown",
   "id": "8da7a105-ca27-4604-855c-156810a32b90",
   "metadata": {},
   "source": [
    "### Ce qu'on peut voir :\n",
    "\n",
    "- **Fortune (NetWorth)** : \n",
    "  - La majorité des milliardaires ont des fortunes concentrées autour de valeurs assez basses (en dessous de 10 milliards), mais il y a quelques chanceux qui explosent les compteurs (jusqu'à 177 milliards). On voit plusieurs points au-dessus du boxplot, qui représentent ces super-riches !\n",
    "  \n",
    "- **Âge** :\n",
    "  - L'âge des milliardaires est plus équilibré avec un écart moins grand que la fortune. La plupart ont entre 50 et 75 ans, avec quelques exceptions plus jeunes ou plus âgées.\n",
    "  \n",
    "- **Outliers (valeurs extrêmes)** :\n",
    "  - Il y a beaucoup de valeurs extrêmes pour la fortune, ce qui montre que certains milliardaires sont beaucoup plus riches que la majorité.\n",
    "  - Pour l'âge, les valeurs sont plus concentrées, avec quelques exceptions très jeunes ou très âgées.\n",
    "\n",
    "### Conclusion :\n",
    "\n",
    "Ce boxplot nous montre bien l'inégalité de la répartition des richesses parmi les milliardaires, tandis que l'âge semble un peu plus stable. 💰👴👶\n"
   ]
  },
  {
   "cell_type": "markdown",
   "id": "44f7d3b7-b803-4e2f-8c07-28ef4d7ee736",
   "metadata": {},
   "source": [
    "---"
   ]
  },
  {
   "cell_type": "markdown",
   "id": "9f663831-2c0f-4d1a-a213-fc2c78111e25",
   "metadata": {},
   "source": [
    "# 🚀 Analyse de la distribution des données : La quête du naturel ! \r\n",
    "\r\n",
    "Pour vérifier si nos données sont bien dans le monde du **normal**, nous allons utiliser trois techniques : **test de Shapiro-Wilk**, **histogramme**, et **QQ-Plot**. Prêts pour l’aventure ?\r\n",
    "\r\n",
    "## 1. **Test de Shapiro-Wilk** 🕵️‍♂️\r\n",
    "\r\n",
    "Nous allons tester :\r\n",
    "\r\n",
    "- **Fortune (NetWorth)** : Sont-ils riches comme Crésus ?\r\n",
    "- **Âge** : Sont-ils dans le club des anciens ou des jeunes ?\r\n",
    "\r\n",
    "### Interprétation :\r\n",
    "- **p-value < 0,05** : Nos données ne sont pas normales.\r\n",
    "- **p-value > 0,05** : Tout va bien, mais pas tout à fait !\r\n",
    "\r\n",
    "## 2. **Histogramme** 📊\r\n",
    "\r\n",
    "Voyons le selfie de nos données !\r\n",
    "\r\n",
    "- **Fortune** : Les riches se regroupent-ils autour d’une certaine valeur ?\r\n",
    "- **Âge** : Tous du même âge ou pas ?\r\n",
    "\r\n",
    "### Interprétation :\r\n",
    "- **Distribution normale** : Une belle courbe en forme de cloche.\r\n",
    "- **Asymétrique** : Des choses étranges se passent !\r\n",
    "\r\n",
    "## 3. **QQ-Plot** 📈\r\n",
    "\r\n",
    "Un radar pour comparer nos données avec le normal.\r\n",
    "\r\n",
    "- **Fortune et Âge** : Les points s'alignent-ils sur la droite ?\r\n",
    "\r\n",
    "### Interprétation :\r\n",
    "- **Points alignés** : Youpi, nos données sont normales !\r\n",
    "- **Points écartés** : Oups, il y a du travail à faire !\r\n",
    "\r\n",
    "---\r\n",
    "\r\n",
    "Avec ces trois méthodes, nous allons bien comprendre la distribution de nos données et choisir les bons tests statistiques par la suite. Prêts à partir ? 🎢\r\n",
    " statistiques à utiliser par la suite.\r\n"
   ]
  },
  {
   "cell_type": "markdown",
   "id": "5877ea63-d6b5-4adc-b2de-6d39c2dec87b",
   "metadata": {},
   "source": [
    "## *1. Shapiro-Wilk pour l'Âge*"
   ]
  },
  {
   "cell_type": "code",
   "execution_count": 9,
   "id": "790fb7da-4958-4608-b3ce-bfffc91ccc1c",
   "metadata": {},
   "outputs": [
    {
     "name": "stdout",
     "output_type": "stream",
     "text": [
      "Statistic: 0.9964844974004416, P-value: 4.902672563172394e-06\n",
      "Age ne suit pas une distribution normale (rejeter H0)\n"
     ]
    }
   ],
   "source": [
    "stat , p_value = stats.shapiro(df['Age'])\n",
    "print(f'Statistic: {stat}, P-value: {p_value}')\n",
    "alpha = 0.05\n",
    "if p_value > alpha:\n",
    "    print(\"Age suit une distribution normale (ne pas rejeter H0)\")\n",
    "else:\n",
    "    print(\"Age ne suit pas une distribution normale (rejeter H0)\")"
   ]
  },
  {
   "cell_type": "markdown",
   "id": "152e4e7a-69ff-48c2-8167-5fd53bd9c46d",
   "metadata": {},
   "source": [
    "### Analyse rapide\r\n",
    "La **P-value** (4.90e-06) est tellement inférieure à **α = 0.05** qu'elle semble avoir pris un raccourci ! Cela signifie que l'âge des milliardaires ne suit **pas** une distribution normale. En gros, on a une belle diversité d'âges, ce qui pourrait expliquer pourquoi certains milliardaires agissent comme des adolescents ! 😄\r\n"
   ]
  },
  {
   "cell_type": "markdown",
   "id": "3d5cde97-e313-40c3-afef-0186c5195af9",
   "metadata": {},
   "source": [
    "## 2. *Histogramme*"
   ]
  },
  {
   "cell_type": "code",
   "execution_count": 10,
   "id": "9daab966-3f2c-4a20-911d-6827b3d7d97a",
   "metadata": {},
   "outputs": [
    {
     "data": {
      "image/png": "[encoded data removed]",
      "text/plain": [
       "<Figure size 500x400 with 1 Axes>"
      ]
     },
     "metadata": {},
     "output_type": "display_data"
    }
   ],
   "source": [
    "plt.style.use('dark_background')\n",
    "plt.figure(figsize = (5,4))\n",
    "sns.histplot(data=df, x='Age', kde=True, color='#00bbff')\n",
    "plt.title('Histogram of Age')\n",
    "plt.xlabel('Age', fontsize=12, color='white')\n",
    "plt.ylabel('') \n",
    "plt.grid(True, linestyle='--', linewidth=0.5, color='gray')\n",
    "plt.show()"
   ]
  },
  {
   "cell_type": "markdown",
   "id": "3a8b91aa-f69c-471f-957c-42cc666b852e",
   "metadata": {},
   "source": [
    "Alors, après avoir tracé l'histogramme, surprise ! On dirait bien qu'il a décidé de faire un clin d'œil à une distribution normale avec sa belle courbe en cloche. 🎉 Mais attendez, ne mettons pas la charrue avant les bœufs !"
   ]
  },
  {
   "cell_type": "code",
   "execution_count": 11,
   "id": "17228cc8-b813-40ad-bb67-f0bbb209b33d",
   "metadata": {},
   "outputs": [
    {
     "data": {
      "image/png": "[encoded data removed]",
      "text/plain": [
       "<Figure size 500x300 with 1 Axes>"
      ]
     },
     "metadata": {},
     "output_type": "display_data"
    }
   ],
   "source": [
    "data = df['Age']\n",
    "plt.figure(figsize = (5,3))\n",
    "stats.probplot(data, dist=\"norm\", plot=plt)\n",
    "plt.title('QQ Plot using Scipy')\n",
    "plt.style.use('dark_background')\n",
    "plt.grid(True, linestyle='--', linewidth=0.5, color='gray')\n",
    "plt.show()\n"
   ]
  },
  {
   "cell_type": "markdown",
   "id": "5e7c27f7-82a6-4cc6-a08d-56c78c28ff2d",
   "metadata": {},
   "source": [
    "\n",
    "Ensuite, le QQ-Plot est arrivé sur scène, et il a commencé à aligner presque tous les points sur la ligne droite, comme s'ils suivaient un code secret. 📏 Mais là, quelques points à la fin se sont dit : \"Non merci, nous préférons être différents !\" Ces points isolés pourraient indiquer des valeurs extrêmes qui se moquent un peu de la norme.\n"
   ]
  },
  {
   "cell_type": "markdown",
   "id": "0ee16723-9400-412e-b07d-1d5c4649dc14",
   "metadata": {},
   "source": [
    "### Conclusion\n",
    "En résumé, même si l'histogramme et le QQ-Plot donnent l'impression d'une distribution normale, ces petits rebelles à la fin nous rappellent que la normalité est parfois un concept relatif. Peut-être que nos milliardaires ont quelques surprises cachées dans leurs âges ! 😄"
   ]
  },
  {
   "cell_type": "markdown",
   "id": "92289398-cd06-40a3-9fcb-9ab6949226a7",
   "metadata": {},
   "source": [
    "## Interprétation du Skewness et Kurtosis pour l'Âge a encore des secrets à découvrir ! 😄\r\n"
   ]
  },
  {
   "cell_type": "code",
   "execution_count": null,
   "id": "0a363800-6e13-43d0-8bff-974a503c3611",
   "metadata": {},
   "outputs": [],
   "source": [
    "\n",
    "skewness = stats.skew(df['Age'])\n",
    "kurtosis = stats.kurtosis(df['Age'])\n",
    "\n",
    "print(f'skewness: {skewness}')\n",
    "print(f'kurtosis: {kurtosis}')\n"
   ]
  },
  {
   "cell_type": "markdown",
   "id": "da5954bb-e027-4135-ad30-e6c5856d5b9d",
   "metadata": {},
   "source": [
    "\n",
    "## Résumé des Résultats du Skewness et Kurtosis pour l'Âge\n",
    "\n",
    "Après nos calculs, voici ce que nous avons trouvé pour l'âge des milliardaires :\n",
    "\n",
    "- **Inflexion (Skewness)** : **0.0463**\n",
    "- **Taux de plat (Kurtosis)** : **-0.3042**"
   ]
  },
  {
   "cell_type": "markdown",
   "id": "e3d4d3fc-b3cf-43e4-88a4-3c4428fa1862",
   "metadata": {},
   "source": [
    "\n",
    "### Qu'est-ce que ça veut dire ?"
   ]
  },
  {
   "cell_type": "markdown",
   "id": "79a1c4db-8196-43d2-a6d7-46ee7a50347e",
   "metadata": {},
   "source": [
    "\n",
    "#### Inflexion (Skewness)\n",
    "- **0.0463** : C’est presque comme si l'âge disait \"Regardez-moi, je suis presque parfait !\" Cela signifie que la distribution de l'âge est presque **symétrique**. En d'autres termes, il n'y a pas trop de milliardaires très vieux ou très jeunes. C'est un peu comme une fête d'anniversaire où tout le monde a à peu près le même âge — pas de surprises ici !"
   ]
  },
  {
   "cell_type": "markdown",
   "id": "1f120ba7-8feb-4c67-8bde-b2f40ba75796",
   "metadata": {},
   "source": [
    "#### Taux de plat (Kurtosis)\n",
    "- **-0.3042** : Ah, voilà un chiffre intéressant ! Cela indique que notre distribution a moins de valeurs extrêmes que ce que l'on attend normalement. Imaginez une bande de milliardaires qui sont tous assez semblables, sans trop de \"cas extrêmes\". C’est comme une équipe de foot où tout le monde joue bien, sans superstar qui fait le show. 😄"
   ]
  },
  {
   "cell_type": "markdown",
   "id": "ce61be04-d048-49f7-8ccb-1bcb990a6d07",
   "metadata": {},
   "source": [
    "### En gros\n",
    "L'âge des milliardaires est assez normal, pas trop de décalage, pas trop de surprises. Ils semblent tous se comporter comme des gens « normaux » (dans le sens où ils ont tous à peu près le même âge). Qui sait, peut-être qu'ils ont un secret pour rester jeunes d'esprit, ou peut-être qu'ils investissent dans des crèmes anti-âge ?! 😜\n",
    "ardaires, l'âge a une tendance à se comporter de manière « conventionnelle » — mais qui sait, peut-être qu'il y a encore des secrets à découvrir ! 😄"
   ]
  },
  {
   "cell_type": "markdown",
   "id": "aa30e695-0bd8-41bd-979d-3b222bd9f170",
   "metadata": {},
   "source": [
    "---"
   ]
  },
  {
   "cell_type": "markdown",
   "id": "b7ed91b2-7cb8-4376-acbe-2a3dda8244d2",
   "metadata": {},
   "source": [
    "## Réflexion sur les Résultats Contradictoires\r\n",
    "\r\n",
    "On a un petit mystère dans notre analyse de l'âge des milliardaires ! Voici ce qu’on a trouvé :\r\n",
    "\r\n",
    "1. **Test de Shapiro-Wilk** : Ce test a donné une **P-value** plus petite que **α = 0.05**. Ça veut dire qu'on doit dire \"Au revoir !\" à l'idée que l'âge suit une distribution normale.\r\n",
    "\r\n",
    "2. **Histogramme** : Mais attendez ! Notre histogramme ressemble à une belle cloche. Ça veut dire que les âges sont bien répartis, comme une fête où tout le monde danse à la même heure.\r\n",
    "\r\n",
    "3. **QQ-Plot** : Et là, le QQ-Plot nous montre que la plupart des points sont bien alignés sur la ligne droite. C'est comme si tout le monde était à la bonne place, avec juste quelques invités qui arrivent en retard !\r\n",
    "\r\n",
    "4. **Inflexion (Skewness)** : Avec une valeur de **0.0463**, l'âge est presque symétrique. Ça veut dire que les milliardaires ne sont ni trop vieux ni trop jeunes. Un bel équilibre !\r\n",
    "\r\n",
    "5. **Taux de plat (Kurtosis)** : La valeur de **-0.3042** montre qu'il n'y a pas trop de valeurs extrêmes. C'est comme une bande de milliardaires qui se ressemble, sans trop de surprises.\r\n",
    "\r\n",
    "### Que faire alors ?\r\n",
    "- **Interprétation des Résultats** : Ces petites contradictions arrivent parfois en statistique. Le test de Shapiro-Wilk peut être un peu trop sensible, surtout avec beaucoup de données. Mais nos jolies visualisations, comme l'histogramme et le QQ-Plot, ainsi que nos mesures d'inflexion et de platitude, disent presque le contraire.\r\n",
    "\r\n",
    "### Conclusion\r\n",
    "Alors, que faire ? Même si le test dit \"Non, pas normal !\", nos autres analyses suggèrent qu'on peut quand même utiliser des analyses paramétriques. Peut-être que les milliardaires ont un secret pour rester \"normaux\", même si les tests disent le contraire ! 😄\r\n"
   ]
  },
  {
   "cell_type": "code",
   "execution_count": null,
   "id": "b90d789f-7546-44bd-a117-dac245eb2a4a",
   "metadata": {},
   "outputs": [],
   "source": []
  }
 ],
 "metadata": {
  "kernelspec": {
   "display_name": "Python 3 (ipykernel)",
   "language": "python",
   "name": "python3"
  },
  "language_info": {
   "codemirror_mode": {
    "name": "ipython",
    "version": 3
   },
   "file_extension": ".py",
   "mimetype": "text/x-python",
   "name": "python",
   "nbconvert_exporter": "python",
   "pygments_lexer": "ipython3",
   "version": "3.12.4"
  }
 },
 "nbformat": 4,
 "nbformat_minor": 5
}
