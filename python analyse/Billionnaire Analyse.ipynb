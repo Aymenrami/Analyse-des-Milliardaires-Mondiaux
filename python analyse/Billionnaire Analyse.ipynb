{
 "cells": [
  {
   "cell_type": "markdown",
   "id": "6350660d-0258-4b89-95a5-e9a946595bbd",
   "metadata": {},
   "source": [
    "# Projet : Analyse des Milliardaires Mondiaux 💸\r\n",
    "\r\n",
    "## Description :\r\n",
    "Ce projet va nous donner un aperçu sur les personnes les plus riches du monde. En utilisant Excel, Python et Power BI, on va essayer de comprendre comment la richesse est répartie, qui sont ces milliardaires, et quelles sont les statistiques clés selon les régions et les industries. En gros, on va examiner ce qui contribue à l'accumulation des fortunes.\r\n",
    "\r\n",
    "## Le Workflow 🤖 :\r\n",
    "\r\n",
    "1. **Excel** 🧼: D'abord, on commence par nettoyer les données, un peu comme quand on range sa chambre à la dernière minute. On fait une exploration de base et quelques visualisations pour voir les premières tendances.\r\n",
    "\r\n",
    "2. **Python** 🐍: Ensuite, on passe aux choses sérieuses. Avec des bibliothèques comme Pandas et Matplotlib, on va manipuler les données, faire des analyses avancées et chercher des insights plus profonds.\r\n",
    "\r\n",
    "3. **Power BI** 📊: Pour finir, on crée un tableau de bord interactif qui permettra de naviguer facilement dans les données et d'explorer les résultats de manière dynamique.\r\n",
    "\r\n",
    "## Objectif 🏆 :\r\n",
    "L’objectif est d’avoir une compréhension claire et détaillée de la répartition des milliardaires à travers le monde, d'identifier les modèles de richesse, et de voir comment certains secteurs et régions contribuent à l’accumulation des fortunes. 🚀\r\n"
   ]
  },
  {
   "cell_type": "markdown",
   "id": "b3a76198-4666-4185-9379-bd6fd5181fca",
   "metadata": {},
   "source": [
    "---"
   ]
  },
  {
   "cell_type": "code",
   "execution_count": null,
   "id": "5bcb4af7-3873-4119-ad24-3c3908939e26",
   "metadata": {},
   "outputs": [],
   "source": []
  },
  {
   "cell_type": "markdown",
   "id": "e2cd3c16-9795-48f3-adb3-cabf0672b07e",
   "metadata": {},
   "source": [
    "\n",
    "---"
   ]
  },
  {
   "cell_type": "markdown",
   "id": "994e1917-18f1-4e77-8fd6-6afe595cc129",
   "metadata": {},
   "source": [
    "# let's goooooooo"
   ]
  },
  {
   "cell_type": "code",
   "execution_count": 1,
   "id": "d6c351a2-353b-4eba-8a09-d65c26037400",
   "metadata": {},
   "outputs": [],
   "source": [
    "import pandas as pd \n",
    "import numpy as np\n",
    "import matplotlib.pyplot as plt\n",
    "import seaborn as sns\n",
    "from scipy.stats import stats\n",
    "from scipy import stats\n",
    "import scikit_posthocs as sp"
   ]
  },
  {
   "cell_type": "code",
   "execution_count": 2,
   "id": "9e939f63-ecf1-4619-860e-674fa6f42580",
   "metadata": {},
   "outputs": [
    {
     "data": {
      "text/html": [
       "<div>\n",
       "<style scoped>\n",
       "    .dataframe tbody tr th:only-of-type {\n",
       "        vertical-align: middle;\n",
       "    }\n",
       "\n",
       "    .dataframe tbody tr th {\n",
       "        vertical-align: top;\n",
       "    }\n",
       "\n",
       "    .dataframe thead th {\n",
       "        text-align: right;\n",
       "    }\n",
       "</style>\n",
       "<table border=\"1\" class=\"dataframe\">\n",
       "  <thead>\n",
       "    <tr style=\"text-align: right;\">\n",
       "      <th></th>\n",
       "      <th>Name</th>\n",
       "      <th>NetWorth (B)</th>\n",
       "      <th>Wealth Category</th>\n",
       "      <th>Country</th>\n",
       "      <th>Source</th>\n",
       "      <th>Rank</th>\n",
       "      <th>Age</th>\n",
       "      <th>Age Group</th>\n",
       "      <th>Industry</th>\n",
       "    </tr>\n",
       "  </thead>\n",
       "  <tbody>\n",
       "    <tr>\n",
       "      <th>0</th>\n",
       "      <td>Jeff Bezos</td>\n",
       "      <td>177.0</td>\n",
       "      <td>Milliardaires très riches</td>\n",
       "      <td>United States</td>\n",
       "      <td>Amazon</td>\n",
       "      <td>1</td>\n",
       "      <td>57.0</td>\n",
       "      <td>Adulte</td>\n",
       "      <td>Technology</td>\n",
       "    </tr>\n",
       "    <tr>\n",
       "      <th>1</th>\n",
       "      <td>Elon Musk</td>\n",
       "      <td>151.0</td>\n",
       "      <td>Milliardaires très riches</td>\n",
       "      <td>United States</td>\n",
       "      <td>Tesla, SpaceX</td>\n",
       "      <td>2</td>\n",
       "      <td>49.0</td>\n",
       "      <td>Adulte</td>\n",
       "      <td>Automotive</td>\n",
       "    </tr>\n",
       "    <tr>\n",
       "      <th>2</th>\n",
       "      <td>Bernard Arnault &amp; family</td>\n",
       "      <td>150.0</td>\n",
       "      <td>Milliardaires très riches</td>\n",
       "      <td>France</td>\n",
       "      <td>LVMH</td>\n",
       "      <td>3</td>\n",
       "      <td>72.0</td>\n",
       "      <td>Âgé</td>\n",
       "      <td>Fashion &amp; Retail</td>\n",
       "    </tr>\n",
       "    <tr>\n",
       "      <th>3</th>\n",
       "      <td>Bill Gates</td>\n",
       "      <td>124.0</td>\n",
       "      <td>Milliardaires très riches</td>\n",
       "      <td>United States</td>\n",
       "      <td>Microsoft</td>\n",
       "      <td>4</td>\n",
       "      <td>65.0</td>\n",
       "      <td>Âgé</td>\n",
       "      <td>Technology</td>\n",
       "    </tr>\n",
       "    <tr>\n",
       "      <th>4</th>\n",
       "      <td>Mark Zuckerberg</td>\n",
       "      <td>97.0</td>\n",
       "      <td>Milliardaires très riches</td>\n",
       "      <td>United States</td>\n",
       "      <td>Facebook</td>\n",
       "      <td>5</td>\n",
       "      <td>36.0</td>\n",
       "      <td>Jeune</td>\n",
       "      <td>Technology</td>\n",
       "    </tr>\n",
       "    <tr>\n",
       "      <th>...</th>\n",
       "      <td>...</td>\n",
       "      <td>...</td>\n",
       "      <td>...</td>\n",
       "      <td>...</td>\n",
       "      <td>...</td>\n",
       "      <td>...</td>\n",
       "      <td>...</td>\n",
       "      <td>...</td>\n",
       "      <td>...</td>\n",
       "    </tr>\n",
       "    <tr>\n",
       "      <th>2750</th>\n",
       "      <td>Daniel Yong Zhang</td>\n",
       "      <td>1.0</td>\n",
       "      <td>Milliardaires jeunes</td>\n",
       "      <td>China</td>\n",
       "      <td>e-commerce</td>\n",
       "      <td>2674</td>\n",
       "      <td>49.0</td>\n",
       "      <td>Adulte</td>\n",
       "      <td>Technology</td>\n",
       "    </tr>\n",
       "    <tr>\n",
       "      <th>2751</th>\n",
       "      <td>Zhang Yuqiang</td>\n",
       "      <td>1.0</td>\n",
       "      <td>Milliardaires jeunes</td>\n",
       "      <td>China</td>\n",
       "      <td>Fiberglass</td>\n",
       "      <td>2674</td>\n",
       "      <td>65.0</td>\n",
       "      <td>Âgé</td>\n",
       "      <td>Manufacturing</td>\n",
       "    </tr>\n",
       "    <tr>\n",
       "      <th>2752</th>\n",
       "      <td>Zhao Meiguang</td>\n",
       "      <td>1.0</td>\n",
       "      <td>Milliardaires jeunes</td>\n",
       "      <td>China</td>\n",
       "      <td>gold mining</td>\n",
       "      <td>2674</td>\n",
       "      <td>58.0</td>\n",
       "      <td>Adulte</td>\n",
       "      <td>Metals &amp; Mining</td>\n",
       "    </tr>\n",
       "    <tr>\n",
       "      <th>2753</th>\n",
       "      <td>Zhong Naixiong</td>\n",
       "      <td>1.0</td>\n",
       "      <td>Milliardaires jeunes</td>\n",
       "      <td>China</td>\n",
       "      <td>conglomerate</td>\n",
       "      <td>2674</td>\n",
       "      <td>58.0</td>\n",
       "      <td>Adulte</td>\n",
       "      <td>Diversified</td>\n",
       "    </tr>\n",
       "    <tr>\n",
       "      <th>2754</th>\n",
       "      <td>Zhou Wei family</td>\n",
       "      <td>1.0</td>\n",
       "      <td>Milliardaires jeunes</td>\n",
       "      <td>China</td>\n",
       "      <td>Software</td>\n",
       "      <td>2674</td>\n",
       "      <td>54.0</td>\n",
       "      <td>Adulte</td>\n",
       "      <td>Technology</td>\n",
       "    </tr>\n",
       "  </tbody>\n",
       "</table>\n",
       "<p>2755 rows × 9 columns</p>\n",
       "</div>"
      ],
      "text/plain": [
       "                          Name  NetWorth (B)            Wealth Category  \\\n",
       "0                   Jeff Bezos         177.0  Milliardaires très riches   \n",
       "1                    Elon Musk         151.0  Milliardaires très riches   \n",
       "2     Bernard Arnault & family         150.0  Milliardaires très riches   \n",
       "3                   Bill Gates         124.0  Milliardaires très riches   \n",
       "4              Mark Zuckerberg          97.0  Milliardaires très riches   \n",
       "...                        ...           ...                        ...   \n",
       "2750         Daniel Yong Zhang           1.0       Milliardaires jeunes   \n",
       "2751             Zhang Yuqiang           1.0       Milliardaires jeunes   \n",
       "2752             Zhao Meiguang           1.0       Milliardaires jeunes   \n",
       "2753            Zhong Naixiong           1.0       Milliardaires jeunes   \n",
       "2754           Zhou Wei family           1.0       Milliardaires jeunes   \n",
       "\n",
       "            Country         Source  Rank   Age Age Group          Industry  \n",
       "0     United States         Amazon     1  57.0    Adulte        Technology  \n",
       "1     United States  Tesla, SpaceX     2  49.0    Adulte        Automotive  \n",
       "2            France           LVMH     3  72.0       Âgé  Fashion & Retail  \n",
       "3     United States      Microsoft     4  65.0       Âgé        Technology  \n",
       "4     United States       Facebook     5  36.0     Jeune        Technology  \n",
       "...             ...            ...   ...   ...       ...               ...  \n",
       "2750          China     e-commerce  2674  49.0    Adulte        Technology  \n",
       "2751          China     Fiberglass  2674  65.0       Âgé     Manufacturing  \n",
       "2752          China    gold mining  2674  58.0    Adulte   Metals & Mining  \n",
       "2753          China   conglomerate  2674  58.0    Adulte       Diversified  \n",
       "2754          China       Software  2674  54.0    Adulte        Technology  \n",
       "\n",
       "[2755 rows x 9 columns]"
      ]
     },
     "execution_count": 2,
     "metadata": {},
     "output_type": "execute_result"
    }
   ],
   "source": [
    "df = pd.read_excel(r\"C:\\Users\\Lenovo\\Desktop\\Project Aymen\\Billionaires Analysis with Python\\Billionaires data\\Billionaires Data Transform .xlsx\")\n",
    "df"
   ]
  },
  {
   "cell_type": "markdown",
   "id": "c47b9f46-773f-463f-8ed7-7212b61e2002",
   "metadata": {},
   "source": [
    "# Explication des Colonnes du Projet d'Analyse des Milliardaires Mondiaux 📊\r\n",
    "\r\n",
    "1. **Name**  \r\n",
    "   Nom des milliardaires.\r\n",
    "\r\n",
    "2. **NetWorth**  \r\n",
    "   Valeur nette de chaque milliardaire.\r\n",
    "\r\n",
    "3. **Country**  \r\n",
    "   Pays d'origine des milliardaires.\r\n",
    "\r\n",
    "4. **Source**  \r\n",
    "   Origine de leur richesse (entreprises, investissements, etc.).\r\n",
    "\r\n",
    "5. **Rank**  \r\n",
    "   Rang de chaque milliardaire selon leur fortune.\r\n",
    "\r\n",
    "6. **Age**  \r\n",
    "   Âge des milliardaires.\r\n",
    "\r\n",
    "7. **Industry**  \r\n",
    "   Industrie dans laquelle chaque milliardaire opère.\r\n",
    "onger dans les données ?\r\n"
   ]
  },
  {
   "cell_type": "markdown",
   "id": "0aaaf478-9b70-4b5b-96c3-5dfc3fb514b0",
   "metadata": {},
   "source": [
    "# Inspection des données : Un petit coup d'œil 👀\r\n",
    "\r\n",
    "Avant de commencer avec nos milliardaires, on a regardé nos données de près. On veut être sûr que tout est bien en place tats :es :\r\n",
    "\r\n"
   ]
  },
  {
   "cell_type": "markdown",
   "id": "a4f720b2-dd95-45b8-b34a-00d0be0a2161",
   "metadata": {},
   "source": [
    "---"
   ]
  },
  {
   "cell_type": "markdown",
   "id": "3307887c-9f37-47ee-9f55-86ec6f668722",
   "metadata": {},
   "source": [
    "\n",
    "## 1. **Des colonnes vides ?**\n",
    "\n",
    "Voici le résumé des valeurs manquantes :"
   ]
  },
  {
   "cell_type": "code",
   "execution_count": 3,
   "id": "28901701-0cef-49fa-a087-3bc420e379ed",
   "metadata": {},
   "outputs": [
    {
     "data": {
      "text/plain": [
       "Name                0\n",
       "NetWorth (B)        0\n",
       "Wealth Category     0\n",
       "Country             0\n",
       "Source              0\n",
       "Rank                0\n",
       "Age                79\n",
       "Age Group           0\n",
       "Industry            0\n",
       "dtype: int64"
      ]
     },
     "execution_count": 3,
     "metadata": {},
     "output_type": "execute_result"
    }
   ],
   "source": [
    "df.isna().sum()"
   ]
  },
  {
   "cell_type": "markdown",
   "id": "cb2a16fc-24b2-490b-b3be-6d703ee16bb6",
   "metadata": {},
   "source": [
    "On a trouvé un problème avec la colonne **Age**. Il manque 79 valeurs. C'est peut-être des milliardaires qui préfèrent garder leur âge secret... \n",
    "\n",
    "Bon, on va pas laisser ça comme ça... Il est temps de faire un peu de magie de données ! \n"
   ]
  },
  {
   "cell_type": "markdown",
   "id": "07d61a18-a128-4561-98d7-0c31be517279",
   "metadata": {},
   "source": [
    "\n",
    "##  **Remplir les âges manquants avec la moyenne**\n",
    "\n",
    "Pour éviter les problèmes, on va remplacer les âges manquants par l'âge moyen. Comme ça, tout le monde aura un âge, même ceux qui l'ont oublié ! \n"
   ]
  },
  {
   "cell_type": "code",
   "execution_count": 4,
   "id": "6e294a85-73fc-4ecb-8862-51ccd04c8a3a",
   "metadata": {
    "scrolled": true
   },
   "outputs": [
    {
     "data": {
      "text/plain": [
       "Name               0\n",
       "NetWorth (B)       0\n",
       "Wealth Category    0\n",
       "Country            0\n",
       "Source             0\n",
       "Rank               0\n",
       "Age                0\n",
       "Age Group          0\n",
       "Industry           0\n",
       "dtype: int64"
      ]
     },
     "execution_count": 4,
     "metadata": {},
     "output_type": "execute_result"
    }
   ],
   "source": [
    "mean_age = df['Age'].mean()\n",
    "df['Age'] = df['Age'].fillna(mean_age)\n",
    "df.isna().sum()"
   ]
  },
  {
   "cell_type": "markdown",
   "id": "c485847b-743f-4064-bb14-f99b3c1d4024",
   "metadata": {},
   "source": [
    "---\n",
    "# 2. Valeurs dupliquées\n",
    "## Deuxième vérification, est-ce qu'on a des doublons ?"
   ]
  },
  {
   "cell_type": "code",
   "execution_count": 5,
   "id": "1bcf46d4-86f2-4ad3-958f-c20f88974edd",
   "metadata": {},
   "outputs": [
    {
     "data": {
      "text/plain": [
       "np.int64(0)"
      ]
     },
     "execution_count": 5,
     "metadata": {},
     "output_type": "execute_result"
    }
   ],
   "source": [
    "df.duplicated().sum()"
   ]
  },
  {
   "cell_type": "markdown",
   "id": "dc40e492-d8dd-42a9-8dc8-9dfb93b460de",
   "metadata": {},
   "source": [
    "# Résultat :\n",
    "## 0 doublons ! \n",
    "- Pas de données répétées, tout est unique et bien structuré. Franchement, c’est rare qu’on ait une data aussi clean dès le départ !?"
   ]
  },
  {
   "cell_type": "markdown",
   "id": "edc92358-f86d-499f-9280-6749f4fc22b1",
   "metadata": {},
   "source": [
    "---"
   ]
  },
  {
   "cell_type": "markdown",
   "id": "cf8e499a-6d1c-4979-bf69-135b9c859e2b",
   "metadata": {},
   "source": [
    "# 3. Infos sur les colonnes 🧐\n",
    "\n",
    "## Un dernier coup d’œil sur les types de données et quelques stats générales"
   ]
  },
  {
   "cell_type": "code",
   "execution_count": 6,
   "id": "7ac89b0a-7a3f-48a4-8700-e71f688f5203",
   "metadata": {},
   "outputs": [
    {
     "name": "stdout",
     "output_type": "stream",
     "text": [
      "<class 'pandas.core.frame.DataFrame'>\n",
      "RangeIndex: 2755 entries, 0 to 2754\n",
      "Data columns (total 9 columns):\n",
      " #   Column           Non-Null Count  Dtype  \n",
      "---  ------           --------------  -----  \n",
      " 0   Name             2755 non-null   object \n",
      " 1   NetWorth (B)     2755 non-null   float64\n",
      " 2   Wealth Category  2755 non-null   object \n",
      " 3   Country          2755 non-null   object \n",
      " 4   Source           2755 non-null   object \n",
      " 5   Rank             2755 non-null   int64  \n",
      " 6   Age              2755 non-null   float64\n",
      " 7   Age Group        2755 non-null   object \n",
      " 8   Industry         2755 non-null   object \n",
      "dtypes: float64(2), int64(1), object(6)\n",
      "memory usage: 193.8+ KB\n"
     ]
    }
   ],
   "source": [
    "df.info()"
   ]
  },
  {
   "cell_type": "markdown",
   "id": "1ab7ddc1-0d2c-4768-8a9c-1255febd823d",
   "metadata": {},
   "source": [
    "Ce qu’on voit ici :\r\n",
    "\r\n",
    "- **2755 entrées** : donc on a bien **2755 milliardaires** dans notre base de données. Pas mal, non ? 💰\r\n",
    "- **9 colonnes** avec différents types de données :\r\n",
    "  - **6 colonnes texte** (nom, pays, etc.)\r\n",
    "  - **2 colonnes numériques avec virgule** (fortune en milliards et âge) — eh oui, on parle en milliards ici, c’est pas rien !\r\n",
    "  - **1 colonne entière** (le classement des milliardaires, de 1 à 2755)\r\n",
    "\r\n",
    "Tout est bien propre et prêt pour l’analyse. Alors, c’est parti pour décortiquer la richesse ! 💸\r\n"
   ]
  },
  {
   "cell_type": "markdown",
   "id": "3608162b-b60e-4ba6-830b-d407b68178bd",
   "metadata": {},
   "source": [
    "---\n",
    "---"
   ]
  },
  {
   "cell_type": "markdown",
   "id": "091c6dcf-5398-462d-aab4-614763feee48",
   "metadata": {},
   "source": [
    "# Analyse statistique descriptive 📊\r\n",
    "\r\n",
    "Bon, il est temps de plonger dans les chiffres et de voir ce que ces milliardaires ont dans le ventre (ou plutôt, dans leurs portefeuilles). 😄\r\n",
    "\r\n",
    "## 1. **Statistiques générales**\r\n",
    "\r\n",
    "On va commencer par jeter un œil aux statistiques de base des colonnes numériques : la fortune en milliards et l'âge. Ça nous donnera une idée des tendances généscribe()\r\n"
   ]
  },
  {
   "cell_type": "code",
   "execution_count": 7,
   "id": "4b18af0e-126d-4d04-a1d3-dd9f61b3d0be",
   "metadata": {},
   "outputs": [
    {
     "data": {
      "text/html": [
       "<div>\n",
       "<style scoped>\n",
       "    .dataframe tbody tr th:only-of-type {\n",
       "        vertical-align: middle;\n",
       "    }\n",
       "\n",
       "    .dataframe tbody tr th {\n",
       "        vertical-align: top;\n",
       "    }\n",
       "\n",
       "    .dataframe thead th {\n",
       "        text-align: right;\n",
       "    }\n",
       "</style>\n",
       "<table border=\"1\" class=\"dataframe\">\n",
       "  <thead>\n",
       "    <tr style=\"text-align: right;\">\n",
       "      <th></th>\n",
       "      <th>NetWorth (B)</th>\n",
       "      <th>Age</th>\n",
       "    </tr>\n",
       "  </thead>\n",
       "  <tbody>\n",
       "    <tr>\n",
       "      <th>count</th>\n",
       "      <td>2755.000000</td>\n",
       "      <td>2755.000000</td>\n",
       "    </tr>\n",
       "    <tr>\n",
       "      <th>mean</th>\n",
       "      <td>4.749220</td>\n",
       "      <td>63.113602</td>\n",
       "    </tr>\n",
       "    <tr>\n",
       "      <th>std</th>\n",
       "      <td>9.615358</td>\n",
       "      <td>13.250909</td>\n",
       "    </tr>\n",
       "    <tr>\n",
       "      <th>min</th>\n",
       "      <td>1.000000</td>\n",
       "      <td>18.000000</td>\n",
       "    </tr>\n",
       "    <tr>\n",
       "      <th>25%</th>\n",
       "      <td>1.500000</td>\n",
       "      <td>54.000000</td>\n",
       "    </tr>\n",
       "    <tr>\n",
       "      <th>50%</th>\n",
       "      <td>2.300000</td>\n",
       "      <td>63.000000</td>\n",
       "    </tr>\n",
       "    <tr>\n",
       "      <th>75%</th>\n",
       "      <td>4.200000</td>\n",
       "      <td>72.000000</td>\n",
       "    </tr>\n",
       "    <tr>\n",
       "      <th>max</th>\n",
       "      <td>177.000000</td>\n",
       "      <td>99.000000</td>\n",
       "    </tr>\n",
       "  </tbody>\n",
       "</table>\n",
       "</div>"
      ],
      "text/plain": [
       "       NetWorth (B)          Age\n",
       "count   2755.000000  2755.000000\n",
       "mean       4.749220    63.113602\n",
       "std        9.615358    13.250909\n",
       "min        1.000000    18.000000\n",
       "25%        1.500000    54.000000\n",
       "50%        2.300000    63.000000\n",
       "75%        4.200000    72.000000\n",
       "max      177.000000    99.000000"
      ]
     },
     "execution_count": 7,
     "metadata": {},
     "output_type": "execute_result"
    }
   ],
   "source": [
    "df[['NetWorth (B)' , 'Age']].describe()"
   ]
  },
  {
   "cell_type": "markdown",
   "id": "f18dc726-f1e6-42ee-8ed7-9d538ac00e95",
   "metadata": {},
   "source": [
    "## **Résultats des statistiques générales**\r\n",
    "\r\n",
    "### Fortune en milliards (NetWorth) 💰\r\n",
    "\r\n",
    "- **Nombre total de milliardaires** : 2755\r\n",
    "- **Fortune moyenne** : 4,75 milliards — tranquille, non ?\r\n",
    "- **Écart type** : 9,61 milliards — il y a de sacrées différences entre les riches !\r\n",
    "- **Minimum** : 1 milliard — oui, oui, c'est \"le plus pauvre\" des milliardaires... 😅\r\n",
    "- **25% des milliardaires** ont une fortune inférieure à 1,5 milliard.\r\n",
    "- **La moitié (50%)** des milliardaires ont moins de 2,3 milliards.\r\n",
    "- **75% des milliardaires** ont moins de 4,2 milliards.\r\n",
    "- **Maximum** : 177 milliards — on se demande bien qui ça peut\n",
    "être... 😎\r\n",
    "\r\n",
    "### Âge des milliardaires 👵👶\r\n",
    "\r\n",
    "- **Âge moyen** : 63 ans — ni trop jeunes, ni trop vieux, ils sont dans la fleur de l'âge !\r\n",
    "- **Écart type** : 13,25 ans — les fortunes n'ont pas d'âge.\r\n",
    "- **Minimum** : 18 ans — imaginez, déjà milliardaire à cet âge !\r\n",
    "- **25% des milliardaires** ont moins de 54 ans.\r\n",
    "- **La moitié (50%)** ont 63 ans — donc c'est l'âge typique d'un milliardaire.\r\n",
    "- **75% ont moins de 72 ans**.\r\n",
    "- **Maximum** : 99 ans — certains ne prennent pas leur retraite de milliardaire... 😄\r\n",
    "\r\n",
    "Voilà de quoi mieux comprendre les chiffres derrière ces fortunes et ces âges ! Prêts pour la suite ? 💸\r\n"
   ]
  },
  {
   "cell_type": "markdown",
   "id": "872aa9e4-bcae-4cfa-8d61-ce28d45faadd",
   "metadata": {},
   "source": [
    "---"
   ]
  },
  {
   "cell_type": "markdown",
   "id": "d5e4ff5c-df15-4af8-b76d-c80d4851463d",
   "metadata": {},
   "source": [
    "## . **Boxplot : Comparaison entre la fortune et l'âge**\n",
    "\n",
    "On a ici un boxplot qui compare la **fortune** (NetWorth en milliards) et l'**âge** de nos milliardaires. Ce graphique nous permet de visualiser les données d'une manière plus simple, et de repérer les valeurs extrêmes (outliers) facilement."
   ]
  },
  {
   "cell_type": "code",
   "execution_count": 8,
   "id": "cbfddcf3-bb9a-4cf4-b4f4-13bd33ea1697",
   "metadata": {},
   "outputs": [
    {
     "data": {
      "image/png": "[encoded data removed]",
      "text/plain": [
       "<Figure size 500x400 with 1 Axes>"
      ]
     },
     "metadata": {},
     "output_type": "display_data"
    }
   ],
   "source": [
    "plt.style.use('dark_background')\n",
    "plt.figure(figsize=(5, 4))  \n",
    "sns.boxplot(data = df[['NetWorth (B)' , 'Age']])\n",
    "plt.title('Boxplot of etWorth (B) and Age', fontsize=15)\n",
    "plt.ylabel('Values')\n",
    "plt.xlabel('Variables')\n",
    "plt.grid(True, linestyle='--', linewidth=0.5, color='gray')\n",
    "plt.show()"
   ]
  },
  {
   "cell_type": "markdown",
   "id": "8da7a105-ca27-4604-855c-156810a32b90",
   "metadata": {},
   "source": [
    "### Ce qu'on peut voir :\n",
    "\n",
    "- **Fortune (NetWorth)** : \n",
    "  - La majorité des milliardaires ont des fortunes concentrées autour de valeurs assez basses (en dessous de 10 milliards), mais il y a quelques chanceux qui explosent les compteurs (jusqu'à 177 milliards). On voit plusieurs points au-dessus du boxplot, qui représentent ces super-riches !\n",
    "  \n",
    "- **Âge** :\n",
    "  - L'âge des milliardaires est plus équilibré avec un écart moins grand que la fortune. La plupart ont entre 50 et 75 ans, avec quelques exceptions plus jeunes ou plus âgées.\n",
    "  \n",
    "- **Outliers (valeurs extrêmes)** :\n",
    "  - Il y a beaucoup de valeurs extrêmes pour la fortune, ce qui montre que certains milliardaires sont beaucoup plus riches que la majorité.\n",
    "  - Pour l'âge, les valeurs sont plus concentrées, avec quelques exceptions très jeunes ou très âgées.\n",
    "\n",
    "### Conclusion :\n",
    "\n",
    "Ce boxplot nous montre bien l'inégalité de la répartition des richesses parmi les milliardaires, tandis que l'âge semble un peu plus stable. 💰👴👶\n"
   ]
  },
  {
   "cell_type": "markdown",
   "id": "44f7d3b7-b803-4e2f-8c07-28ef4d7ee736",
   "metadata": {},
   "source": [
    "---"
   ]
  },
  {
   "cell_type": "markdown",
   "id": "9f663831-2c0f-4d1a-a213-fc2c78111e25",
   "metadata": {},
   "source": [
    "# 🚀 Analyse de la distribution des données : La quête du naturel ! \r\n",
    "\r\n",
    "Pour vérifier si nos données sont bien dans le monde du **normal**, nous allons utiliser trois techniques : **test de Shapiro-Wilk**, **histogramme**, et **QQ-Plot**. Prêts pour l’aventure ?\r\n",
    "\r\n",
    "## 1. **Test de Shapiro-Wilk** 🕵️‍♂️\r\n",
    "\r\n",
    "Nous allons tester :\r\n",
    "\r\n",
    "- **Fortune (NetWorth)** : Sont-ils riches comme Crésus ?\r\n",
    "- **Âge** : Sont-ils dans le club des anciens ou des jeunes ?\r\n",
    "\r\n",
    "### Interprétation :\r\n",
    "- **p-value < 0,05** : Nos données ne sont pas normales.\r\n",
    "- **p-value > 0,05** : Tout va bien, mais pas tout à fait !\r\n",
    "\r\n",
    "## 2. **Histogramme** 📊\r\n",
    "\r\n",
    "Voyons le selfie de nos données !\r\n",
    "\r\n",
    "- **Fortune** : Les riches se regroupent-ils autour d’une certaine valeur ?\r\n",
    "- **Âge** : Tous du même âge ou pas ?\r\n",
    "\r\n",
    "### Interprétation :\r\n",
    "- **Distribution normale** : Une belle courbe en forme de cloche.\r\n",
    "- **Asymétrique** : Des choses étranges se passent !\r\n",
    "\r\n",
    "## 3. **QQ-Plot** 📈\r\n",
    "\r\n",
    "Un radar pour comparer nos données avec le normal.\r\n",
    "\r\n",
    "- **Fortune et Âge** : Les points s'alignent-ils sur la droite ?\r\n",
    "\r\n",
    "### Interprétation :\r\n",
    "- **Points alignés** : Youpi, nos données sont normales !\r\n",
    "- **Points écartés** : Oups, il y a du travail à faire !\r\n",
    "\r\n",
    "---\r\n",
    "\r\n",
    "Avec ces trois méthodes, nous allons bien comprendre la distribution de nos données et choisir les bons tests statistiques par la suite. Prêts à partir ? 🎢\r\n",
    " statistiques à utiliser par la suite.\r\n"
   ]
  },
  {
   "cell_type": "markdown",
   "id": "5877ea63-d6b5-4adc-b2de-6d39c2dec87b",
   "metadata": {},
   "source": [
    "## *1. Shapiro-Wilk pour l'Âge*"
   ]
  },
  {
   "cell_type": "code",
   "execution_count": 9,
   "id": "790fb7da-4958-4608-b3ce-bfffc91ccc1c",
   "metadata": {},
   "outputs": [
    {
     "name": "stdout",
     "output_type": "stream",
     "text": [
      "Statistic: 0.9964844974004416, P-value: 4.902672563172394e-06\n",
      "Age ne suit pas une distribution normale (rejeter H0)\n"
     ]
    }
   ],
   "source": [
    "stat , p_value = stats.shapiro(df['Age'])\n",
    "print(f'Statistic: {stat}, P-value: {p_value}')\n",
    "alpha = 0.05\n",
    "if p_value > alpha:\n",
    "    print(\"Age suit une distribution normale (ne pas rejeter H0)\")\n",
    "else:\n",
    "    print(\"Age ne suit pas une distribution normale (rejeter H0)\")"
   ]
  },
  {
   "cell_type": "markdown",
   "id": "152e4e7a-69ff-48c2-8167-5fd53bd9c46d",
   "metadata": {},
   "source": [
    "### Analyse rapide\r\n",
    "La **P-value** (4.90e-06) est tellement inférieure à **α = 0.05** qu'elle semble avoir pris un raccourci ! Cela signifie que l'âge des milliardaires ne suit **pas** une distribution normale. En gros, on a une belle diversité d'âges, ce qui pourrait expliquer pourquoi certains milliardaires agissent comme des adolescents ! 😄\r\n"
   ]
  },
  {
   "cell_type": "markdown",
   "id": "3d5cde97-e313-40c3-afef-0186c5195af9",
   "metadata": {},
   "source": [
    "## 2. *Histogramme*"
   ]
  },
  {
   "cell_type": "code",
   "execution_count": 10,
   "id": "9daab966-3f2c-4a20-911d-6827b3d7d97a",
   "metadata": {},
   "outputs": [
    {
     "data": {
      "image/png": "[encoded data removed]",
      "text/plain": [
       "<Figure size 500x400 with 1 Axes>"
      ]
     },
     "metadata": {},
     "output_type": "display_data"
    }
   ],
   "source": [
    "plt.style.use('dark_background')\n",
    "plt.figure(figsize = (5,4))\n",
    "sns.histplot(data=df, x='Age', kde=True, color='#00bbff')\n",
    "plt.title('Histogram of Age')\n",
    "plt.xlabel('Age', fontsize=12, color='white')\n",
    "plt.ylabel('') \n",
    "plt.grid(True, linestyle='--', linewidth=0.5, color='gray')\n",
    "plt.show()"
   ]
  },
  {
   "cell_type": "markdown",
   "id": "3a8b91aa-f69c-471f-957c-42cc666b852e",
   "metadata": {},
   "source": [
    "Alors, après avoir tracé l'histogramme, surprise ! On dirait bien qu'il a décidé de faire un clin d'œil à une distribution normale avec sa belle courbe en cloche. 🎉 Mais attendez, ne mettons pas la charrue avant les bœufs !"
   ]
  },
  {
   "cell_type": "code",
   "execution_count": 11,
   "id": "17228cc8-b813-40ad-bb67-f0bbb209b33d",
   "metadata": {
    "scrolled": true
   },
   "outputs": [
    {
     "data": {
      "image/png": "[encoded data removed]",
      "text/plain": [
       "<Figure size 500x300 with 1 Axes>"
      ]
     },
     "metadata": {},
     "output_type": "display_data"
    }
   ],
   "source": [
    "data = df['Age']\n",
    "plt.figure(figsize = (5,3))\n",
    "stats.probplot(data, dist=\"norm\", plot=plt)\n",
    "plt.title('QQ Plot using Scipy')\n",
    "plt.style.use('dark_background')\n",
    "plt.grid(True, linestyle='--', linewidth=0.5, color='gray')\n",
    "plt.show()\n"
   ]
  },
  {
   "cell_type": "markdown",
   "id": "5e7c27f7-82a6-4cc6-a08d-56c78c28ff2d",
   "metadata": {},
   "source": [
    "\n",
    "Ensuite, le QQ-Plot est arrivé sur scène, et il a commencé à aligner presque tous les points sur la ligne droite, comme s'ils suivaient un code secret. 📏 Mais là, quelques points à la fin se sont dit : \"Non merci, nous préférons être différents !\" Ces points isolés pourraient indiquer des valeurs extrêmes qui se moquent un peu de la norme.\n"
   ]
  },
  {
   "cell_type": "markdown",
   "id": "0ee16723-9400-412e-b07d-1d5c4649dc14",
   "metadata": {},
   "source": [
    "### Conclusion\n",
    "En résumé, même si l'histogramme et le QQ-Plot donnent l'impression d'une distribution normale, ces petits rebelles à la fin nous rappellent que la normalité est parfois un concept relatif. Peut-être que nos milliardaires ont quelques surprises cachées dans leurs âges ! 😄"
   ]
  },
  {
   "cell_type": "markdown",
   "id": "92289398-cd06-40a3-9fcb-9ab6949226a7",
   "metadata": {},
   "source": [
    "## Interprétation du Skewness et Kurtosis pour l'Âge a encore des secrets à découvrir ! 😄\r\n"
   ]
  },
  {
   "cell_type": "code",
   "execution_count": 12,
   "id": "0a363800-6e13-43d0-8bff-974a503c3611",
   "metadata": {},
   "outputs": [
    {
     "name": "stdout",
     "output_type": "stream",
     "text": [
      "skewness: 0.04626435977262172\n",
      "kurtosis: -0.3042403080678664\n"
     ]
    }
   ],
   "source": [
    "\n",
    "skewness = stats.skew(df['Age'])\n",
    "kurtosis = stats.kurtosis(df['Age'])\n",
    "\n",
    "print(f'skewness: {skewness}')\n",
    "print(f'kurtosis: {kurtosis}')\n"
   ]
  },
  {
   "cell_type": "markdown",
   "id": "da5954bb-e027-4135-ad30-e6c5856d5b9d",
   "metadata": {},
   "source": [
    "\n",
    "## Résumé des Résultats du Skewness et Kurtosis pour l'Âge\n",
    "\n",
    "Après nos calculs, voici ce que nous avons trouvé pour l'âge des milliardaires :\n",
    "\n",
    "- **Inflexion (Skewness)** : **0.0463**\n",
    "- **Taux de plat (Kurtosis)** : **-0.3042**"
   ]
  },
  {
   "cell_type": "markdown",
   "id": "e3d4d3fc-b3cf-43e4-88a4-3c4428fa1862",
   "metadata": {},
   "source": [
    "\n",
    "### Qu'est-ce que ça veut dire ?"
   ]
  },
  {
   "cell_type": "markdown",
   "id": "79a1c4db-8196-43d2-a6d7-46ee7a50347e",
   "metadata": {},
   "source": [
    "\n",
    "#### Inflexion (Skewness)\n",
    "- **0.0463** : C’est presque comme si l'âge disait \"Regardez-moi, je suis presque parfait !\" Cela signifie que la distribution de l'âge est presque **symétrique**. En d'autres termes, il n'y a pas trop de milliardaires très vieux ou très jeunes. C'est un peu comme une fête d'anniversaire où tout le monde a à peu près le même âge — pas de surprises ici !"
   ]
  },
  {
   "cell_type": "markdown",
   "id": "1f120ba7-8feb-4c67-8bde-b2f40ba75796",
   "metadata": {},
   "source": [
    "#### Taux de plat (Kurtosis)\n",
    "- **-0.3042** : Ah, voilà un chiffre intéressant ! Cela indique que notre distribution a moins de valeurs extrêmes que ce que l'on attend normalement. Imaginez une bande de milliardaires qui sont tous assez semblables, sans trop de \"cas extrêmes\". C’est comme une équipe de foot où tout le monde joue bien, sans superstar qui fait le show. 😄"
   ]
  },
  {
   "cell_type": "markdown",
   "id": "ce61be04-d048-49f7-8ccb-1bcb990a6d07",
   "metadata": {},
   "source": [
    "### En gros\n",
    "L'âge des milliardaires est assez normal, pas trop de décalage, pas trop de surprises. Ils semblent tous se comporter comme des gens « normaux » (dans le sens où ils ont tous à peu près le même âge). Qui sait, peut-être qu'ils ont un secret pour rester jeunes d'esprit, ou peut-être qu'ils investissent dans des crèmes anti-âge ?! \n",
    "ardaires, l'âge a une tendance à se comporter de manière « conventionnelle » — mais qui sait, peut-être qu'il y a encore des secrets à découvrir ! "
   ]
  },
  {
   "cell_type": "markdown",
   "id": "aa30e695-0bd8-41bd-979d-3b222bd9f170",
   "metadata": {},
   "source": [
    "---"
   ]
  },
  {
   "cell_type": "markdown",
   "id": "b7ed91b2-7cb8-4376-acbe-2a3dda8244d2",
   "metadata": {},
   "source": [
    "## Réflexion sur les Résultats Contradictoires\r\n",
    "\r\n",
    "On a un petit mystère dans notre analyse de l'âge des milliardaires ! Voici ce qu’on a trouvé :\r\n",
    "\r\n",
    "1. **Test de Shapiro-Wilk** : Ce test a donné une **P-value** plus petite que **α = 0.05**. Ça veut dire qu'on doit dire \"Au revoir !\" à l'idée que l'âge suit une distribution normale.\r\n",
    "\r\n",
    "2. **Histogramme** : Mais attendez ! Notre histogramme ressemble à une belle cloche. Ça veut dire que les âges sont bien répartis, comme une fête où tout le monde danse à la même heure.\r\n",
    "\r\n",
    "3. **QQ-Plot** : Et là, le QQ-Plot nous montre que la plupart des points sont bien alignés sur la ligne droite. C'est comme si tout le monde était à la bonne place, avec juste quelques invités qui arrivent en retard !\r\n",
    "\r\n",
    "4. **Inflexion (Skewness)** : Avec une valeur de **0.0463**, l'âge est presque symétrique. Ça veut dire que les milliardaires ne sont ni trop vieux ni trop jeunes. Un bel équilibre !\r\n",
    "\r\n",
    "5. **Taux de plat (Kurtosis)** : La valeur de **-0.3042** montre qu'il n'y a pas trop de valeurs extrêmes. C'est comme une bande de milliardaires qui se ressemble, sans trop de surprises.\r\n",
    "\r\n",
    "### Que faire alors ?\r\n",
    "- **Interprétation des Résultats** : Ces petites contradictions arrivent parfois en statistique. Le test de Shapiro-Wilk peut être un peu trop sensible, surtout avec beaucoup de données. Mais nos jolies visualisations, comme l'histogramme et le QQ-Plot, ainsi que nos mesures d'inflexion et de platitude, disent presque le contraire.\r\n",
    "\r\n",
    "### Conclusion\r\n",
    "Alors, que faire ? Même si le test dit \"Non, pas normal !\", nos autres analyses suggèrent qu'on peut quand même utiliser des analyses paramétriques. Peut-être que les milliardaires ont un secret pour rester \"normaux\", même si les tests disent le contraire ! 😄\r\n"
   ]
  },
  {
   "cell_type": "markdown",
   "id": "c7b76477-ee14-47e9-a62f-f28f2bf77e77",
   "metadata": {},
   "source": [
    "## Analyse de la Distribution de la Fortune (NetWorth)"
   ]
  },
  {
   "cell_type": "markdown",
   "id": "b19ae959-6789-46e2-ba2f-aaf29f9c26ca",
   "metadata": {},
   "source": [
    "### 1. Test de Shapiro-Wilk"
   ]
  },
  {
   "cell_type": "code",
   "execution_count": 13,
   "id": "f571e246-5be4-4504-b1a2-379e27db50f6",
   "metadata": {},
   "outputs": [
    {
     "name": "stdout",
     "output_type": "stream",
     "text": [
      "Statistic: 0.33170859597755864, P-value: 3.8868456818900727e-72\n",
      "NetWorth ne suit pas une distribution normale (rejeter H0)\n"
     ]
    }
   ],
   "source": [
    "stat , p_value = stats.shapiro(df['NetWorth (B)'])\n",
    "\n",
    "print(f'Statistic: {stat}, P-value: {p_value}')\n",
    "alpha = 0.05\n",
    "if p_value > alpha:\n",
    "    print(\"NetWorth suit une distribution normale (ne pas rejeter H0)\")\n",
    "else:\n",
    "    print(\"NetWorth ne suit pas une distribution normale (rejeter H0)\")"
   ]
  },
  {
   "cell_type": "markdown",
   "id": "b0529adc-1d3f-46c5-a307-4f36ab5f9e50",
   "metadata": {},
   "source": [
    "- **Statistic** : **0.3317**\n",
    "- **P-value** : **3.8868e-72** (c'est-à-dire très, très petit)\n",
    "- **Conclusion** : Avec une p-value aussi petite, il est clair que nous devons **rejeter l'hypothèse nulle**. Autrement dit, la fortune des milliardaires **ne suit pas** une distribution normale. Eh oui, il semblerait que la richesse ne soit pas aussi bien répartie que l'âge !"
   ]
  },
  {
   "cell_type": "markdown",
   "id": "1bae25e7-7cc6-4129-8e4b-c7d8a71eb66f",
   "metadata": {},
   "source": [
    "### 2. Histogramme"
   ]
  },
  {
   "cell_type": "code",
   "execution_count": 14,
   "id": "76f2a1d8-3827-43eb-8cfd-91827ba3fffb",
   "metadata": {},
   "outputs": [
    {
     "data": {
      "image/png": "[encoded data removed]",
      "text/plain": [
       "<Figure size 500x400 with 1 Axes>"
      ]
     },
     "metadata": {},
     "output_type": "display_data"
    }
   ],
   "source": [
    "plt.style.use('dark_background')\n",
    "plt.figure(figsize = (5,4))\n",
    "sns.histplot(data=df, x='NetWorth (B)', kde=True, color='#00bbff')\n",
    "plt.title('Histogram of NetWorth (B)')\n",
    "plt.xlabel('NetWorth (B)', fontsize=12, color='white')\n",
    "plt.ylabel('') \n",
    "plt.grid(True, linestyle='--', linewidth=0.5, color='gray')\n",
    "plt.show()"
   ]
  },
  {
   "cell_type": "markdown",
   "id": "a8909823-999c-4f9a-88d4-507c6048f96c",
   "metadata": {},
   "source": [
    "- L'histogramme montre clairement que la distribution n'est **pas normale du tout**. Il commence très haut, puis chute brusquement, et finit par se stabiliser très bas. On dirait un toboggan qui commence par une descente vertigineuse avant de s'aplatir. Bref, la richesse n’est pas pour tout le monde… et ça se voit !"
   ]
  },
  {
   "cell_type": "markdown",
   "id": "a311a7d7-b0c8-479c-8b1d-30d3afaf0f8d",
   "metadata": {},
   "source": [
    "### 3. QQ-Plot"
   ]
  },
  {
   "cell_type": "code",
   "execution_count": 15,
   "id": "832dc6a4-5b31-4497-b42d-eb566aac57ed",
   "metadata": {},
   "outputs": [
    {
     "data": {
      "image/png": "[encoded data removed]",
      "text/plain": [
       "<Figure size 500x300 with 1 Axes>"
      ]
     },
     "metadata": {},
     "output_type": "display_data"
    }
   ],
   "source": [
    "data = df['NetWorth (B)']\n",
    "plt.figure(figsize = (5,3))\n",
    "stats.probplot(data, dist=\"norm\", plot=plt)\n",
    "plt.title('QQ Plot using Scipy')\n",
    "plt.style.use('dark_background')\n",
    "plt.grid(True, linestyle='--', linewidth=0.5, color='gray')\n",
    "plt.show()"
   ]
  },
  {
   "cell_type": "markdown",
   "id": "9e5cee37-2457-46bf-bdec-455a17af094e",
   "metadata": {},
   "source": [
    "- Sur le QQ-Plot, les points commencent par une belle descente, se stabilisent un peu au milieu, puis finissent par **dire \"bye-bye\" à la ligne droite**. Ce qui confirme encore une fois que la distribution de la fortune est loin d'être normale. Apparemment, les milliardaires aiment sortir des lignes !"
   ]
  },
  {
   "cell_type": "markdown",
   "id": "9572735b-5cc8-42f3-9a8b-7d4ae8d3f3e0",
   "metadata": {},
   "source": [
    "### Conclusion\n",
    "Il est évident que la fortune des milliardaires ne suit **pas du tout** une distribution normale. Entre l'histogramme en mode toboggan et le QQ-Plot où les points se rebellent, on comprend bien que la richesse est concentrée chez quelques-uns, sans aucune symétrie ni normalité. C'est un peu comme si les riches disaient : \"La normalité, c'est pour les autres !\" 😄"
   ]
  },
  {
   "cell_type": "markdown",
   "id": "001ca115-9075-4cc2-add6-de49f882874e",
   "metadata": {},
   "source": [
    "---"
   ]
  },
  {
   "cell_type": "markdown",
   "id": "2ba1e32f-a116-4a49-86ff-65effeb8816e",
   "metadata": {},
   "source": [
    " # 🚀 Analyse avancée de la richesse et de l'âge\r\n",
    "\r\n",
    "Maintenant qu'on a une idée sur la nature des données (distribution normale ou pas), on va passer à l'analyse avancée pour découvrir des informations plus profondes🤓\r\n",
    "\r\n",
    "## Objectif :\r\n",
    "On va utiliser des **tests non paramétriques** et **paramétriques** en fonction de la nature de chaque variable. On se concentre surtout sur la comparaison entre différentes groupes, comme les industries et les pays. Comment se répartissent l'âge et la richesse entre eux ? Y a-t-il des différences significatives ?\r\n",
    "\r\n",
    "Préparez-vous, parce que notre analyse va devenir plus complexe mais aussi plus passion ! 😎🔍\r\n"
   ]
  },
  {
   "cell_type": "markdown",
   "id": "5f865511-51f4-4ae3-b0d9-bb46c83e47d6",
   "metadata": {},
   "source": []
  },
  {
   "cell_type": "markdown",
   "id": "0031cae7-fe48-46c7-aaf2-4fa52f2bad5d",
   "metadata": {},
   "source": [
    "# Analyse des différences de richesse selon l'industrie\n",
    "\n",
    "Vu que la richesse n'est pas normalement distribuée, on va utiliser des **tests non paramétriques** :\n",
    "\n",
    "1. **Test de Kruskal-Wallis** : Pour vérifier s'il y a des différences de richesse entre les groupes (industries ou pays).\n",
    "\n",
    "2. **Test de Dunn** (si nécessaire) : Pour identifier les groupes spécifiques avec des différences significatives, en utilisant une **correction de Bonferroni**.\n",
    "\n",
    "Ce plan nous aidera à comprendre les différences de richesse entre les groupes. \n"
   ]
  },
  {
   "cell_type": "code",
   "execution_count": 16,
   "id": "138265fc-7604-48d0-a36b-b81ce391b292",
   "metadata": {},
   "outputs": [
    {
     "name": "stdout",
     "output_type": "stream",
     "text": [
      "Statistic: 34.72587478400973, P-value: 0.006757539245863811\n",
      "Reject H0 - Différences significatives entre les groupes\n",
      "Résultats du test de Dunn :\n",
      "          1         2    3    4         5    6    7    8    9    10        11  \\\n",
      "1   1.000000  1.000000  1.0  1.0  1.000000  1.0  1.0  1.0  1.0  1.0  1.000000   \n",
      "2   1.000000  1.000000  1.0  1.0  1.000000  1.0  1.0  1.0  1.0  1.0  1.000000   \n",
      "3   1.000000  1.000000  1.0  1.0  1.000000  1.0  1.0  1.0  1.0  1.0  1.000000   \n",
      "4   1.000000  1.000000  1.0  1.0  1.000000  1.0  1.0  1.0  1.0  1.0  1.000000   \n",
      "5   1.000000  1.000000  1.0  1.0  1.000000  1.0  1.0  1.0  1.0  1.0  0.759523   \n",
      "6   1.000000  1.000000  1.0  1.0  1.000000  1.0  1.0  1.0  1.0  1.0  1.000000   \n",
      "7   1.000000  1.000000  1.0  1.0  1.000000  1.0  1.0  1.0  1.0  1.0  1.000000   \n",
      "8   1.000000  1.000000  1.0  1.0  1.000000  1.0  1.0  1.0  1.0  1.0  1.000000   \n",
      "9   1.000000  1.000000  1.0  1.0  1.000000  1.0  1.0  1.0  1.0  1.0  1.000000   \n",
      "10  1.000000  1.000000  1.0  1.0  1.000000  1.0  1.0  1.0  1.0  1.0  1.000000   \n",
      "11  1.000000  1.000000  1.0  1.0  0.759523  1.0  1.0  1.0  1.0  1.0  1.000000   \n",
      "12  1.000000  0.685943  1.0  1.0  1.000000  1.0  1.0  1.0  1.0  1.0  0.578849   \n",
      "13  1.000000  1.000000  1.0  1.0  1.000000  1.0  1.0  1.0  1.0  1.0  1.000000   \n",
      "14  1.000000  1.000000  1.0  1.0  1.000000  1.0  1.0  1.0  1.0  1.0  1.000000   \n",
      "15  0.966192  1.000000  1.0  1.0  0.803935  1.0  1.0  1.0  1.0  1.0  1.000000   \n",
      "16  1.000000  1.000000  1.0  1.0  1.000000  1.0  1.0  1.0  1.0  1.0  1.000000   \n",
      "17  1.000000  1.000000  1.0  1.0  1.000000  1.0  1.0  1.0  1.0  1.0  1.000000   \n",
      "18  1.000000  1.000000  1.0  1.0  1.000000  1.0  1.0  1.0  1.0  1.0  1.000000   \n",
      "\n",
      "          12   13   14        15   16   17   18  \n",
      "1   1.000000  1.0  1.0  0.966192  1.0  1.0  1.0  \n",
      "2   0.685943  1.0  1.0  1.000000  1.0  1.0  1.0  \n",
      "3   1.000000  1.0  1.0  1.000000  1.0  1.0  1.0  \n",
      "4   1.000000  1.0  1.0  1.000000  1.0  1.0  1.0  \n",
      "5   1.000000  1.0  1.0  0.803935  1.0  1.0  1.0  \n",
      "6   1.000000  1.0  1.0  1.000000  1.0  1.0  1.0  \n",
      "7   1.000000  1.0  1.0  1.000000  1.0  1.0  1.0  \n",
      "8   1.000000  1.0  1.0  1.000000  1.0  1.0  1.0  \n",
      "9   1.000000  1.0  1.0  1.000000  1.0  1.0  1.0  \n",
      "10  1.000000  1.0  1.0  1.000000  1.0  1.0  1.0  \n",
      "11  0.578849  1.0  1.0  1.000000  1.0  1.0  1.0  \n",
      "12  1.000000  1.0  1.0  0.349380  1.0  1.0  1.0  \n",
      "13  1.000000  1.0  1.0  1.000000  1.0  1.0  1.0  \n",
      "14  1.000000  1.0  1.0  1.000000  1.0  1.0  1.0  \n",
      "15  0.349380  1.0  1.0  1.000000  1.0  1.0  1.0  \n",
      "16  1.000000  1.0  1.0  1.000000  1.0  1.0  1.0  \n",
      "17  1.000000  1.0  1.0  1.000000  1.0  1.0  1.0  \n",
      "18  1.000000  1.0  1.0  1.000000  1.0  1.0  1.0  \n"
     ]
    }
   ],
   "source": [
    "import scipy.stats as stats\n",
    "import scikit_posthocs as sp\n",
    "\n",
    "grouped_data = df.groupby('Industry')['NetWorth (B)']\n",
    "\n",
    "industry_networth = [group for name, group in grouped_data]\n",
    "\n",
    "stat, p_value = stats.kruskal(*industry_networth)\n",
    "print(f'Statistic: {stat}, P-value: {p_value}')\n",
    "\n",
    "alpha = 0.05\n",
    "if p_value < alpha: \n",
    "    print('Reject H0 - Différences significatives entre les groupes')\n",
    "    dunn_results = sp.posthoc_dunn(industry_networth, p_adjust='bonferroni')\n",
    "    print('Résultats du test de Dunn :')\n",
    "    print(dunn_results)\n",
    "else: \n",
    "    print('Not Reject H0 - Pas de différences significatives entre les groupes')\n"
   ]
  },
  {
   "cell_type": "code",
   "execution_count": 17,
   "id": "1a18ef25-ea80-4c6c-80d5-60ceb2a15677",
   "metadata": {},
   "outputs": [
    {
     "name": "stdout",
     "output_type": "stream",
     "text": [
      "                      Industry\n",
      "0                   Technology\n",
      "1                   Automotive\n",
      "2             Fashion & Retail\n",
      "3        Finance & Investments\n",
      "4                  Diversified\n",
      "5              Food & Beverage\n",
      "6                      Telecom\n",
      "7        Media & Entertainment\n",
      "8                      Service\n",
      "9           Gambling & Casinos\n",
      "10               Manufacturing\n",
      "11                 Real Estate\n",
      "12             Metals & Mining\n",
      "13                      Energy\n",
      "14                   Logistics\n",
      "15                  Healthcare\n",
      "16  Construction & Engineering\n",
      "17                      Sports\n"
     ]
    }
   ],
   "source": [
    "groups = df['Industry'].unique()\n",
    "groups_df = pd.DataFrame(groups, columns=['Industry']).reset_index(drop=True)\n",
    "print(groups_df)"
   ]
  },
  {
   "cell_type": "code",
   "execution_count": 18,
   "id": "93a732b7-352c-495a-8257-1eddb370e960",
   "metadata": {},
   "outputs": [
    {
     "data": {
      "text/plain": [
       "<Axes: >"
      ]
     },
     "execution_count": 18,
     "metadata": {},
     "output_type": "execute_result"
    },
    {
     "data": {
      "image/png": "[encoded data removed]",
      "text/plain": [
       "<Figure size 640x480 with 2 Axes>"
      ]
     },
     "metadata": {},
     "output_type": "display_data"
    }
   ],
   "source": [
    "sns.heatmap(data = dunn_results )"
   ]
  },
  {
   "cell_type": "markdown",
   "id": "15921f84-b4c7-4f35-86cf-991c7fe04128",
   "metadata": {},
   "source": [
    "### Quelle industrie compte le plus de milliardaires ? 🏭.\r\n",
    "paire d'industries.*\r\n"
   ]
  },
  {
   "cell_type": "code",
   "execution_count": 19,
   "id": "238212d4-32d8-4481-94fa-f513af461dd4",
   "metadata": {},
   "outputs": [
    {
     "data": {
      "text/html": [
       "<div>\n",
       "<style scoped>\n",
       "    .dataframe tbody tr th:only-of-type {\n",
       "        vertical-align: middle;\n",
       "    }\n",
       "\n",
       "    .dataframe tbody tr th {\n",
       "        vertical-align: top;\n",
       "    }\n",
       "\n",
       "    .dataframe thead th {\n",
       "        text-align: right;\n",
       "    }\n",
       "</style>\n",
       "<table border=\"1\" class=\"dataframe\">\n",
       "  <thead>\n",
       "    <tr style=\"text-align: right;\">\n",
       "      <th></th>\n",
       "      <th>Industry</th>\n",
       "      <th>Total</th>\n",
       "    </tr>\n",
       "  </thead>\n",
       "  <tbody>\n",
       "    <tr>\n",
       "      <th>5</th>\n",
       "      <td>Finance &amp; Investments</td>\n",
       "      <td>371</td>\n",
       "    </tr>\n",
       "  </tbody>\n",
       "</table>\n",
       "</div>"
      ],
      "text/plain": [
       "                Industry  Total\n",
       "5  Finance & Investments    371"
      ]
     },
     "execution_count": 19,
     "metadata": {},
     "output_type": "execute_result"
    }
   ],
   "source": [
    "milliardaires_industrie = df.groupby('Industry')['Name'].size().reset_index(name = 'Total').sort_values(by = 'Total' , ascending = False)\n",
    "milliardaires_industrie=milliardaires_industrie.head(1)\n",
    "milliardaires_industrie"
   ]
  },
  {
   "cell_type": "code",
   "execution_count": 20,
   "id": "c9d318c1-7b74-40b0-a89f-7139d013517b",
   "metadata": {},
   "outputs": [
    {
     "data": {
      "image/png": "[encoded data removed]",
      "text/plain": [
       "<Figure size 1000x500 with 1 Axes>"
      ]
     },
     "metadata": {},
     "output_type": "display_data"
    }
   ],
   "source": [
    "from wordcloud import WordCloud\n",
    "milliardaires_industrie = df['Industry'].value_counts()\n",
    "text = ' '.join([industry for industry, count in milliardaires_industrie.items() for _ in range(count)])\n",
    "wordcloud = WordCloud(width=800, height=400, background_color='white').generate(text)\n",
    "plt.figure(figsize=(10, 5))\n",
    "plt.imshow(wordcloud, interpolation='bilinear')\n",
    "plt.axis('off')\n",
    "plt.title('Word Cloud of Industries Based on Billionaires Count')\n",
    "plt.show()"
   ]
  },
  {
   "cell_type": "markdown",
   "id": "a344f2ea-3108-4d88-ae82-3a15596e0941",
   "metadata": {},
   "source": [
    "L'industrie qui compte le plus grand nombre de milliardaires est **Finance & Investments**, avec un total de **371** milliardaires. 💰📈"
   ]
  },
  {
   "cell_type": "markdown",
   "id": "a55a6f49-91be-4357-a03b-323058526da0",
   "metadata": {},
   "source": [
    "# Combien y a-t-il de milliardaires dans chaque pays ? 🌍 Top 10 des pays"
   ]
  },
  {
   "cell_type": "code",
   "execution_count": 21,
   "id": "617750b2-b277-45a6-8f08-d31ee23564c5",
   "metadata": {},
   "outputs": [
    {
     "data": {
      "text/html": [
       "<div>\n",
       "<style scoped>\n",
       "    .dataframe tbody tr th:only-of-type {\n",
       "        vertical-align: middle;\n",
       "    }\n",
       "\n",
       "    .dataframe tbody tr th {\n",
       "        vertical-align: top;\n",
       "    }\n",
       "\n",
       "    .dataframe thead th {\n",
       "        text-align: right;\n",
       "    }\n",
       "</style>\n",
       "<table border=\"1\" class=\"dataframe\">\n",
       "  <thead>\n",
       "    <tr style=\"text-align: right;\">\n",
       "      <th></th>\n",
       "      <th>Country</th>\n",
       "      <th>Total</th>\n",
       "    </tr>\n",
       "  </thead>\n",
       "  <tbody>\n",
       "    <tr>\n",
       "      <th>66</th>\n",
       "      <td>United States</td>\n",
       "      <td>724</td>\n",
       "    </tr>\n",
       "    <tr>\n",
       "      <th>8</th>\n",
       "      <td>China</td>\n",
       "      <td>626</td>\n",
       "    </tr>\n",
       "    <tr>\n",
       "      <th>24</th>\n",
       "      <td>India</td>\n",
       "      <td>140</td>\n",
       "    </tr>\n",
       "    <tr>\n",
       "      <th>18</th>\n",
       "      <td>Germany</td>\n",
       "      <td>136</td>\n",
       "    </tr>\n",
       "    <tr>\n",
       "      <th>50</th>\n",
       "      <td>Russia</td>\n",
       "      <td>118</td>\n",
       "    </tr>\n",
       "    <tr>\n",
       "      <th>21</th>\n",
       "      <td>Hong Kong</td>\n",
       "      <td>71</td>\n",
       "    </tr>\n",
       "    <tr>\n",
       "      <th>5</th>\n",
       "      <td>Brazil</td>\n",
       "      <td>65</td>\n",
       "    </tr>\n",
       "    <tr>\n",
       "      <th>6</th>\n",
       "      <td>Canada</td>\n",
       "      <td>64</td>\n",
       "    </tr>\n",
       "    <tr>\n",
       "      <th>65</th>\n",
       "      <td>United Kingdom</td>\n",
       "      <td>56</td>\n",
       "    </tr>\n",
       "    <tr>\n",
       "      <th>28</th>\n",
       "      <td>Italy</td>\n",
       "      <td>51</td>\n",
       "    </tr>\n",
       "  </tbody>\n",
       "</table>\n",
       "</div>"
      ],
      "text/plain": [
       "           Country  Total\n",
       "66   United States    724\n",
       "8            China    626\n",
       "24           India    140\n",
       "18         Germany    136\n",
       "50          Russia    118\n",
       "21       Hong Kong     71\n",
       "5           Brazil     65\n",
       "6           Canada     64\n",
       "65  United Kingdom     56\n",
       "28           Italy     51"
      ]
     },
     "execution_count": 21,
     "metadata": {},
     "output_type": "execute_result"
    }
   ],
   "source": [
    "pays = df.groupby('Country')['Name'].size()\n",
    "pays = pays.reset_index(name = 'Total')\n",
    "pays = pays.sort_values(by='Total', ascending=False)\n",
    "top_10_pays = pays.head(10)\n",
    "top_10_pays"
   ]
  },
  {
   "cell_type": "markdown",
   "id": "52a3355c-db3a-4390-b91e-842b760ba1d5",
   "metadata": {},
   "source": [
    "Voici les 10 pays avec le plus grand nombre de milliardaires :\n",
    "\n",
    "1. **États-Unis** : 724 milliardaires\n",
    "2. **Chine** : 626 milliardaires\n",
    "3. **Inde** : 140 milliardaires\n",
    "4. **Allemagne** : 136 milliardaires\n",
    "5. **Russie** : 118 milliardaires\n",
    "6. **Hong Kong** : 71 milliardaires\n",
    "7. **Brésil** : 65 milliardaires\n",
    "8. **Canada** : 64 milliardaires\n",
    "9. **Royaume-Uni** : 56 milliardaires\n",
    "10. **Italie** : 51 milliardaires"
   ]
  },
  {
   "cell_type": "markdown",
   "id": "0c91cb83-4b60-41d0-a7b1-33e2d2a0fd32",
   "metadata": {},
   "source": [
    "# Quelle est la fortune moyenne dans chaque pays ? 💰"
   ]
  },
  {
   "cell_type": "code",
   "execution_count": 22,
   "id": "1c08ada3-dbfa-49a2-9bd3-e990ba0e67fe",
   "metadata": {},
   "outputs": [
    {
     "data": {
      "text/html": [
       "<div>\n",
       "<style scoped>\n",
       "    .dataframe tbody tr th:only-of-type {\n",
       "        vertical-align: middle;\n",
       "    }\n",
       "\n",
       "    .dataframe tbody tr th {\n",
       "        vertical-align: top;\n",
       "    }\n",
       "\n",
       "    .dataframe thead th {\n",
       "        text-align: right;\n",
       "    }\n",
       "</style>\n",
       "<table border=\"1\" class=\"dataframe\">\n",
       "  <thead>\n",
       "    <tr style=\"text-align: right;\">\n",
       "      <th></th>\n",
       "      <th>Country</th>\n",
       "      <th>Moyenne_Fortune</th>\n",
       "    </tr>\n",
       "  </thead>\n",
       "  <tbody>\n",
       "    <tr>\n",
       "      <th>16</th>\n",
       "      <td>France</td>\n",
       "      <td>12.195238</td>\n",
       "    </tr>\n",
       "    <tr>\n",
       "      <th>35</th>\n",
       "      <td>Mexico</td>\n",
       "      <td>10.469231</td>\n",
       "    </tr>\n",
       "    <tr>\n",
       "      <th>41</th>\n",
       "      <td>Nigeria</td>\n",
       "      <td>7.500000</td>\n",
       "    </tr>\n",
       "    <tr>\n",
       "      <th>21</th>\n",
       "      <td>Hong Kong</td>\n",
       "      <td>6.312676</td>\n",
       "    </tr>\n",
       "    <tr>\n",
       "      <th>12</th>\n",
       "      <td>Denmark</td>\n",
       "      <td>6.130000</td>\n",
       "    </tr>\n",
       "    <tr>\n",
       "      <th>66</th>\n",
       "      <td>United States</td>\n",
       "      <td>6.075138</td>\n",
       "    </tr>\n",
       "    <tr>\n",
       "      <th>51</th>\n",
       "      <td>Singapore</td>\n",
       "      <td>5.811111</td>\n",
       "    </tr>\n",
       "    <tr>\n",
       "      <th>40</th>\n",
       "      <td>New Zealand</td>\n",
       "      <td>5.550000</td>\n",
       "    </tr>\n",
       "    <tr>\n",
       "      <th>32</th>\n",
       "      <td>Liechtenstein</td>\n",
       "      <td>5.500000</td>\n",
       "    </tr>\n",
       "    <tr>\n",
       "      <th>9</th>\n",
       "      <td>Colombia</td>\n",
       "      <td>5.240000</td>\n",
       "    </tr>\n",
       "  </tbody>\n",
       "</table>\n",
       "</div>"
      ],
      "text/plain": [
       "          Country  Moyenne_Fortune\n",
       "16         France        12.195238\n",
       "35         Mexico        10.469231\n",
       "41        Nigeria         7.500000\n",
       "21      Hong Kong         6.312676\n",
       "12        Denmark         6.130000\n",
       "66  United States         6.075138\n",
       "51      Singapore         5.811111\n",
       "40    New Zealand         5.550000\n",
       "32  Liechtenstein         5.500000\n",
       "9        Colombia         5.240000"
      ]
     },
     "execution_count": 22,
     "metadata": {},
     "output_type": "execute_result"
    }
   ],
   "source": [
    "moyenne_pays = df.groupby('Country')['NetWorth (B)'].mean()\n",
    "moyenne_pays = moyenne_pays.reset_index(name='Moyenne_Fortune')\n",
    "moyenne_pays = moyenne_pays.sort_values(by='Moyenne_Fortune', ascending=False)\n",
    "top_10_moyenne_pays = moyenne_pays.head(10)\n",
    "top_10_moyenne_pays"
   ]
  },
  {
   "cell_type": "markdown",
   "id": "de53b11f-9257-4fd8-a4d4-44624d6f6963",
   "metadata": {},
   "source": [
    "Voici les 10 pays avec la fortune moyenne la plus élevée :\n",
    "\n",
    "\n",
    "1. **France** : 12,20 milliards \n",
    "2. **Mexique** : 10,47 milliards \n",
    "3. **Nigéria** : 7,50 milliards \n",
    "4. **Hong Kong** : 6,31 milliards \n",
    "5. **Danemark** : 6,13 milliards \n",
    "6. **États-Unis** : 6,08 milliards \n",
    "7. **Singapour** : 5,81 milliards \n",
    "8. **Nouvelle-Zélande** : 5,55 milliards \n",
    "9. **Liechtenstein** : 5,50 milliards \n",
    "10. **Colombie** : 5,24 milliards "
   ]
  },
  {
   "cell_type": "markdown",
   "id": "5d9f92af-130e-4a86-93c8-296c31ca0449",
   "metadata": {},
   "source": [
    "# Qui est le milliardaire le plus riche dans chaque pays ? 👑"
   ]
  },
  {
   "cell_type": "code",
   "execution_count": 23,
   "id": "669d1ce1-caa1-4d6b-89a9-4c6db6dc6ad9",
   "metadata": {},
   "outputs": [
    {
     "data": {
      "text/html": [
       "<div>\n",
       "<style scoped>\n",
       "    .dataframe tbody tr th:only-of-type {\n",
       "        vertical-align: middle;\n",
       "    }\n",
       "\n",
       "    .dataframe tbody tr th {\n",
       "        vertical-align: top;\n",
       "    }\n",
       "\n",
       "    .dataframe thead th {\n",
       "        text-align: right;\n",
       "    }\n",
       "</style>\n",
       "<table border=\"1\" class=\"dataframe\">\n",
       "  <thead>\n",
       "    <tr style=\"text-align: right;\">\n",
       "      <th></th>\n",
       "      <th>index</th>\n",
       "      <th>Name</th>\n",
       "      <th>Country</th>\n",
       "      <th>NetWorth (B)</th>\n",
       "    </tr>\n",
       "  </thead>\n",
       "  <tbody>\n",
       "    <tr>\n",
       "      <th>0</th>\n",
       "      <td>0</td>\n",
       "      <td>Jeff Bezos</td>\n",
       "      <td>United States</td>\n",
       "      <td>177.0</td>\n",
       "    </tr>\n",
       "    <tr>\n",
       "      <th>1</th>\n",
       "      <td>2</td>\n",
       "      <td>Bernard Arnault &amp; family</td>\n",
       "      <td>France</td>\n",
       "      <td>150.0</td>\n",
       "    </tr>\n",
       "    <tr>\n",
       "      <th>2</th>\n",
       "      <td>9</td>\n",
       "      <td>Mukesh Ambani</td>\n",
       "      <td>India</td>\n",
       "      <td>84.5</td>\n",
       "    </tr>\n",
       "    <tr>\n",
       "      <th>3</th>\n",
       "      <td>10</td>\n",
       "      <td>Amancio Ortega</td>\n",
       "      <td>Spain</td>\n",
       "      <td>77.0</td>\n",
       "    </tr>\n",
       "    <tr>\n",
       "      <th>4</th>\n",
       "      <td>12</td>\n",
       "      <td>Zhong Shanshan</td>\n",
       "      <td>China</td>\n",
       "      <td>68.9</td>\n",
       "    </tr>\n",
       "    <tr>\n",
       "      <th>5</th>\n",
       "      <td>15</td>\n",
       "      <td>Carlos Slim Helu &amp; family</td>\n",
       "      <td>Mexico</td>\n",
       "      <td>62.8</td>\n",
       "    </tr>\n",
       "    <tr>\n",
       "      <th>6</th>\n",
       "      <td>28</td>\n",
       "      <td>Masayoshi Son</td>\n",
       "      <td>Japan</td>\n",
       "      <td>45.4</td>\n",
       "    </tr>\n",
       "    <tr>\n",
       "      <th>7</th>\n",
       "      <td>32</td>\n",
       "      <td>David Thomson &amp; family</td>\n",
       "      <td>Canada</td>\n",
       "      <td>41.8</td>\n",
       "    </tr>\n",
       "    <tr>\n",
       "      <th>8</th>\n",
       "      <td>33</td>\n",
       "      <td>Beate Heister &amp; Karl Albrecht Jr.</td>\n",
       "      <td>Germany</td>\n",
       "      <td>39.2</td>\n",
       "    </tr>\n",
       "    <tr>\n",
       "      <th>9</th>\n",
       "      <td>39</td>\n",
       "      <td>Giovanni Ferrero</td>\n",
       "      <td>Italy</td>\n",
       "      <td>35.1</td>\n",
       "    </tr>\n",
       "  </tbody>\n",
       "</table>\n",
       "</div>"
      ],
      "text/plain": [
       "   index                               Name        Country  NetWorth (B)\n",
       "0      0                         Jeff Bezos  United States         177.0\n",
       "1      2           Bernard Arnault & family         France         150.0\n",
       "2      9                      Mukesh Ambani          India          84.5\n",
       "3     10                     Amancio Ortega          Spain          77.0\n",
       "4     12                     Zhong Shanshan          China          68.9\n",
       "5     15          Carlos Slim Helu & family         Mexico          62.8\n",
       "6     28                      Masayoshi Son          Japan          45.4\n",
       "7     32             David Thomson & family         Canada          41.8\n",
       "8     33  Beate Heister & Karl Albrecht Jr.        Germany          39.2\n",
       "9     39                   Giovanni Ferrero          Italy          35.1"
      ]
     },
     "execution_count": 23,
     "metadata": {},
     "output_type": "execute_result"
    }
   ],
   "source": [
    "plus_riche_par_pays = df.loc[df.groupby('Country')['NetWorth (B)'].idxmax()]\n",
    "plus_riche_par_pays = plus_riche_par_pays.sort_values(by='NetWorth (B)', ascending=False)\n",
    "top_10_riches = plus_riche_par_pays.head(10)\n",
    "top_10_riches[['Name', 'Country', 'NetWorth (B)']].reset_index()"
   ]
  },
  {
   "cell_type": "markdown",
   "id": "1a471c57-50c1-4b40-bcd2-596ac2807462",
   "metadata": {},
   "source": [
    "Bon, on s'intéresse aux géants de la fortune. Voici le top 10 des milliardaires les plus riches dans leurs pays respectifs :\n",
    "1. **Jeff Bezos** (États-Unis) : 177,0 milliards \n",
    "2. **Bernard Arnault & famille** (France) : 150,0 milliards \n",
    "3. **Mukesh Ambani** (Inde) : 84,5 milliards \n",
    "4. **Amancio Ortega** (Espagne) : 77,0 milliards \n",
    "5. **Zhong Shanshan** (Chine) : 68,9 milliards \n",
    "6. **Carlos Slim Helu & famille** (Mexique) : 62,8 milliards \n",
    "7. **Masayoshi Son** (Japon) : 45,4 milliards \n",
    "8. **David Thomson & famille** (Canada) : 41,8 milliards \n",
    "9. **Beate Heister & Karl Albrecht Jr.** (Allemagne) : 39,2 milliards \n",
    "10. **Giovanni Ferrero** (Italie) : 35,1 milliards \n",
    "\n",
    "Alors, clairement, Jeff Bezos ne manque pas d'argent de poche... \n"
   ]
  },
  {
   "cell_type": "markdown",
   "id": "eaf02ccf-6492-4ea9-bcbc-6aecd2c9b94e",
   "metadata": {},
   "source": [
    "# Combien de milliardaires sont jeunes en âge ? 🎂"
   ]
  },
  {
   "cell_type": "code",
   "execution_count": 24,
   "id": "eceea4ff-5365-4d27-ba37-f68f259e7527",
   "metadata": {},
   "outputs": [
    {
     "data": {
      "text/plain": [
       "185"
      ]
     },
     "execution_count": 24,
     "metadata": {},
     "output_type": "execute_result"
    }
   ],
   "source": [
    "milliardaire_jeunes = df[df['Age Group'] == 'Jeune'].shape[0]\n",
    "milliardaire_jeunes"
   ]
  },
  {
   "cell_type": "markdown",
   "id": "c469571d-54ec-4e02-8ca0-009363652616",
   "metadata": {},
   "source": [
    "Saviez-vous qu'il y a **185 milliardaires jeunes** dans notre liste ? C'est impressionnant de voir autant de jeunes qui ont déjà conquis le monde avec leur fortune !💸\n"
   ]
  },
  {
   "cell_type": "markdown",
   "id": "aa7711a9-72f6-48ce-abbf-576961c02b96",
   "metadata": {},
   "source": [
    "# Qui est le plus jeune milliardaire au monde ? 👶"
   ]
  },
  {
   "cell_type": "code",
   "execution_count": 25,
   "id": "c3d9c354-605a-4795-ba75-4b1b549fd6ba",
   "metadata": {},
   "outputs": [
    {
     "data": {
      "text/html": [
       "<div>\n",
       "<style scoped>\n",
       "    .dataframe tbody tr th:only-of-type {\n",
       "        vertical-align: middle;\n",
       "    }\n",
       "\n",
       "    .dataframe tbody tr th {\n",
       "        vertical-align: top;\n",
       "    }\n",
       "\n",
       "    .dataframe thead th {\n",
       "        text-align: right;\n",
       "    }\n",
       "</style>\n",
       "<table border=\"1\" class=\"dataframe\">\n",
       "  <thead>\n",
       "    <tr style=\"text-align: right;\">\n",
       "      <th></th>\n",
       "      <th>index</th>\n",
       "      <th>Name</th>\n",
       "      <th>NetWorth (B)</th>\n",
       "      <th>Wealth Category</th>\n",
       "      <th>Country</th>\n",
       "      <th>Source</th>\n",
       "      <th>Rank</th>\n",
       "      <th>Age</th>\n",
       "      <th>Age Group</th>\n",
       "      <th>Industry</th>\n",
       "    </tr>\n",
       "  </thead>\n",
       "  <tbody>\n",
       "    <tr>\n",
       "      <th>0</th>\n",
       "      <td>4</td>\n",
       "      <td>Mark Zuckerberg</td>\n",
       "      <td>97.0</td>\n",
       "      <td>Milliardaires très riches</td>\n",
       "      <td>United States</td>\n",
       "      <td>Facebook</td>\n",
       "      <td>5</td>\n",
       "      <td>36.0</td>\n",
       "      <td>Jeune</td>\n",
       "      <td>Technology</td>\n",
       "    </tr>\n",
       "  </tbody>\n",
       "</table>\n",
       "</div>"
      ],
      "text/plain": [
       "   index             Name  NetWorth (B)            Wealth Category  \\\n",
       "0      4  Mark Zuckerberg          97.0  Milliardaires très riches   \n",
       "\n",
       "         Country    Source  Rank   Age Age Group    Industry  \n",
       "0  United States  Facebook     5  36.0     Jeune  Technology  "
      ]
     },
     "execution_count": 25,
     "metadata": {},
     "output_type": "execute_result"
    }
   ],
   "source": [
    "plus_jeune_milliardaire  = df[df['Age Group'] == 'Jeune'].reset_index()\n",
    "plus_jeune_milliardaire=plus_jeune_milliardaire.head(1)\n",
    "plus_jeune_milliardaire"
   ]
  },
  {
   "cell_type": "markdown",
   "id": "98645463-6ade-46f7-b049-590a866ec996",
   "metadata": {},
   "source": [
    "\n",
    "\n",
    "Le titre du plus jeune milliardaire revient à **Mark Zuckerberg**, avec une fortune de **97 milliards de dollars** ! Ce jeune entrepreneur, âgé de **36 ans**, a fait sa marque grâce à **Facebook**. Qui aurait cru qu'un simple réseau social pourrait mener à une telle richesse ? 💻💰\n"
   ]
  },
  {
   "cell_type": "markdown",
   "id": "651182d1-3566-41f8-944b-3a59cc0fe1f7",
   "metadata": {},
   "source": [
    "# Combien de milliardaires ont la même source de richesse ? 💼"
   ]
  },
  {
   "cell_type": "code",
   "execution_count": 26,
   "id": "8478042c-7b50-44ed-8ae2-156dfd4db9bd",
   "metadata": {},
   "outputs": [
    {
     "data": {
      "text/html": [
       "<div>\n",
       "<style scoped>\n",
       "    .dataframe tbody tr th:only-of-type {\n",
       "        vertical-align: middle;\n",
       "    }\n",
       "\n",
       "    .dataframe tbody tr th {\n",
       "        vertical-align: top;\n",
       "    }\n",
       "\n",
       "    .dataframe thead th {\n",
       "        text-align: right;\n",
       "    }\n",
       "</style>\n",
       "<table border=\"1\" class=\"dataframe\">\n",
       "  <thead>\n",
       "    <tr style=\"text-align: right;\">\n",
       "      <th></th>\n",
       "      <th>Source</th>\n",
       "      <th>Total_Millionair</th>\n",
       "      <th>Total_NetWorth</th>\n",
       "    </tr>\n",
       "  </thead>\n",
       "  <tbody>\n",
       "    <tr>\n",
       "      <th>728</th>\n",
       "      <td>real estate</td>\n",
       "      <td>171</td>\n",
       "      <td>686.1</td>\n",
       "    </tr>\n",
       "    <tr>\n",
       "      <th>690</th>\n",
       "      <td>pharmaceuticals</td>\n",
       "      <td>99</td>\n",
       "      <td>335.3</td>\n",
       "    </tr>\n",
       "    <tr>\n",
       "      <th>520</th>\n",
       "      <td>investments</td>\n",
       "      <td>90</td>\n",
       "      <td>339.2</td>\n",
       "    </tr>\n",
       "    <tr>\n",
       "      <th>350</th>\n",
       "      <td>diversified</td>\n",
       "      <td>85</td>\n",
       "      <td>378.2</td>\n",
       "    </tr>\n",
       "    <tr>\n",
       "      <th>800</th>\n",
       "      <td>software</td>\n",
       "      <td>62</td>\n",
       "      <td>275.8</td>\n",
       "    </tr>\n",
       "    <tr>\n",
       "      <th>751</th>\n",
       "      <td>retail</td>\n",
       "      <td>47</td>\n",
       "      <td>159.9</td>\n",
       "    </tr>\n",
       "    <tr>\n",
       "      <th>474</th>\n",
       "      <td>hedge funds</td>\n",
       "      <td>42</td>\n",
       "      <td>240.1</td>\n",
       "    </tr>\n",
       "    <tr>\n",
       "      <th>720</th>\n",
       "      <td>private equity</td>\n",
       "      <td>35</td>\n",
       "      <td>124.0</td>\n",
       "    </tr>\n",
       "    <tr>\n",
       "      <th>319</th>\n",
       "      <td>consumer goods</td>\n",
       "      <td>32</td>\n",
       "      <td>88.5</td>\n",
       "    </tr>\n",
       "    <tr>\n",
       "      <th>272</th>\n",
       "      <td>chemicals</td>\n",
       "      <td>32</td>\n",
       "      <td>106.4</td>\n",
       "    </tr>\n",
       "  </tbody>\n",
       "</table>\n",
       "</div>"
      ],
      "text/plain": [
       "              Source  Total_Millionair  Total_NetWorth\n",
       "728      real estate               171           686.1\n",
       "690  pharmaceuticals                99           335.3\n",
       "520      investments                90           339.2\n",
       "350      diversified                85           378.2\n",
       "800         software                62           275.8\n",
       "751           retail                47           159.9\n",
       "474      hedge funds                42           240.1\n",
       "720   private equity                35           124.0\n",
       "319   consumer goods                32            88.5\n",
       "272        chemicals                32           106.4"
      ]
     },
     "execution_count": 26,
     "metadata": {},
     "output_type": "execute_result"
    }
   ],
   "source": [
    "meme_source = df.groupby('Source').agg({'Name': 'size', 'NetWorth (B)': 'sum'})\n",
    "meme_source = meme_source.reset_index()\n",
    "meme_source.columns = ['Source', 'Total_Millionair', 'Total_NetWorth']\n",
    "meme_source = meme_source.sort_values(by='Total_Millionair', ascending=False)\n",
    "meme_source.head(10)"
   ]
  },
  {
   "cell_type": "markdown",
   "id": "3f9ca392-a6dc-441a-b13f-23b4d2d77717",
   "metadata": {},
   "source": [
    "Quand on regarde d'où viennent les milliards, on remarque que **l'immobilier** est en tête avec **171 milliardaires**, accumulant une fortune totale de **686,1 milliards de dollars**. 🏠🤑\n",
    "\n",
    "Ensuite, les **pharmaceutiques** ont contribué à créer **99 milliardaires** avec une valeur nette collective de **335,3 milliards**. 💊💸 Comme quoi, la santé paie bien, surtout quand on parle de milliards.\n",
    "\n",
    "En troisième place, les **investissements** ont permis à **90 personnes** de rejoindre le club très sélect des milliardaires, avec une fortune totale de **339,2 milliards**. 📈💼 Parce qu'investir intelligemment, ça rapporte beaucoup !\n",
    "\n",
    "Le top continue avec des secteurs variés comme les **biens de consommation** et les **fonds spéculatifs**, mais il est clair que certains domaines créent des fortunes plus massives que d'autres. 💵🚀\n"
   ]
  },
  {
   "cell_type": "markdown",
   "id": "4c139abc-959f-4d30-89ba-85757cf80b1d",
   "metadata": {},
   "source": [
    "# Quelle est la relation entre l'âge et la fortune ? 📊"
   ]
  },
  {
   "cell_type": "code",
   "execution_count": 27,
   "id": "21191ac1-a7fe-4529-a090-3090250cd801",
   "metadata": {},
   "outputs": [
    {
     "data": {
      "text/html": [
       "<div>\n",
       "<style scoped>\n",
       "    .dataframe tbody tr th:only-of-type {\n",
       "        vertical-align: middle;\n",
       "    }\n",
       "\n",
       "    .dataframe tbody tr th {\n",
       "        vertical-align: top;\n",
       "    }\n",
       "\n",
       "    .dataframe thead th {\n",
       "        text-align: right;\n",
       "    }\n",
       "</style>\n",
       "<table border=\"1\" class=\"dataframe\">\n",
       "  <thead>\n",
       "    <tr style=\"text-align: right;\">\n",
       "      <th></th>\n",
       "      <th>NetWorth (B)</th>\n",
       "      <th>Age</th>\n",
       "    </tr>\n",
       "  </thead>\n",
       "  <tbody>\n",
       "    <tr>\n",
       "      <th>NetWorth (B)</th>\n",
       "      <td>1.000000</td>\n",
       "      <td>0.103436</td>\n",
       "    </tr>\n",
       "    <tr>\n",
       "      <th>Age</th>\n",
       "      <td>0.103436</td>\n",
       "      <td>1.000000</td>\n",
       "    </tr>\n",
       "  </tbody>\n",
       "</table>\n",
       "</div>"
      ],
      "text/plain": [
       "              NetWorth (B)       Age\n",
       "NetWorth (B)      1.000000  0.103436\n",
       "Age               0.103436  1.000000"
      ]
     },
     "execution_count": 27,
     "metadata": {},
     "output_type": "execute_result"
    }
   ],
   "source": [
    "correlation_spearman = df[['NetWorth (B)', 'Age']].corr(method='spearman')\n",
    "correlation_spearman"
   ]
  },
  {
   "cell_type": "markdown",
   "id": "71bb5f18-c287-48b8-855f-a07c6ca5de75",
   "metadata": {},
   "source": [
    "### Quelle est la relation entre l'âge et la fortune selon Spearman ? 📈\n",
    "Comme tu l'as bien noté, vu que l'âge suit une distribution normale et que la fortune... eh bien, disons qu'elle ne suit que les caprices des milliardaires, nous avons utilisé la corrélation de Spearman. Le résultat est de 0.10.\n",
    "\n",
    "En d'autres termes, que tu sois un jeune prodige ou un vieux sage, la fortune ne dépend pas de tes années, mais plutôt de tes idées, ton travail, et bien sûr... un peu de chance (ou des bonnes relations familials)."
   ]
  },
  {
   "cell_type": "markdown",
   "id": "aac30c4b-490e-41c6-a27b-004a7e721eec",
   "metadata": {},
   "source": [
    "# Quel est le rang moyen des milliardaires selon l'âge ? 🏅"
   ]
  },
  {
   "cell_type": "code",
   "execution_count": 28,
   "id": "caed670b-2ff0-4fc2-96a9-18e316d93598",
   "metadata": {},
   "outputs": [
    {
     "data": {
      "text/html": [
       "<div>\n",
       "<style scoped>\n",
       "    .dataframe tbody tr th:only-of-type {\n",
       "        vertical-align: middle;\n",
       "    }\n",
       "\n",
       "    .dataframe tbody tr th {\n",
       "        vertical-align: top;\n",
       "    }\n",
       "\n",
       "    .dataframe thead th {\n",
       "        text-align: right;\n",
       "    }\n",
       "</style>\n",
       "<table border=\"1\" class=\"dataframe\">\n",
       "  <thead>\n",
       "    <tr style=\"text-align: right;\">\n",
       "      <th></th>\n",
       "      <th>Age Group</th>\n",
       "      <th>count</th>\n",
       "      <th>mean</th>\n",
       "      <th>std</th>\n",
       "      <th>min</th>\n",
       "      <th>25%</th>\n",
       "      <th>50%</th>\n",
       "      <th>75%</th>\n",
       "      <th>max</th>\n",
       "    </tr>\n",
       "  </thead>\n",
       "  <tbody>\n",
       "    <tr>\n",
       "      <th>0</th>\n",
       "      <td>Adulte</td>\n",
       "      <td>1110.0</td>\n",
       "      <td>4.449369</td>\n",
       "      <td>9.770549</td>\n",
       "      <td>1.0</td>\n",
       "      <td>1.4</td>\n",
       "      <td>2.2</td>\n",
       "      <td>3.9</td>\n",
       "      <td>177.0</td>\n",
       "    </tr>\n",
       "    <tr>\n",
       "      <th>1</th>\n",
       "      <td>Jeune</td>\n",
       "      <td>185.0</td>\n",
       "      <td>4.438919</td>\n",
       "      <td>8.251344</td>\n",
       "      <td>1.0</td>\n",
       "      <td>1.5</td>\n",
       "      <td>2.3</td>\n",
       "      <td>4.0</td>\n",
       "      <td>97.0</td>\n",
       "    </tr>\n",
       "    <tr>\n",
       "      <th>2</th>\n",
       "      <td>Âgé</td>\n",
       "      <td>1460.0</td>\n",
       "      <td>5.016507</td>\n",
       "      <td>9.654864</td>\n",
       "      <td>1.0</td>\n",
       "      <td>1.6</td>\n",
       "      <td>2.5</td>\n",
       "      <td>4.6</td>\n",
       "      <td>150.0</td>\n",
       "    </tr>\n",
       "  </tbody>\n",
       "</table>\n",
       "</div>"
      ],
      "text/plain": [
       "  Age Group   count      mean       std  min  25%  50%  75%    max\n",
       "0    Adulte  1110.0  4.449369  9.770549  1.0  1.4  2.2  3.9  177.0\n",
       "1     Jeune   185.0  4.438919  8.251344  1.0  1.5  2.3  4.0   97.0\n",
       "2       Âgé  1460.0  5.016507  9.654864  1.0  1.6  2.5  4.6  150.0"
      ]
     },
     "execution_count": 28,
     "metadata": {},
     "output_type": "execute_result"
    }
   ],
   "source": [
    "quartiles_fortune_age = df.groupby('Age Group')['NetWorth (B)'].describe().reset_index()\n",
    "\n",
    "quartiles_fortune_age"
   ]
  },
  {
   "cell_type": "markdown",
   "id": "74a51f1e-bc05-407d-8dc1-dc0ff4fcd1b8",
   "metadata": {},
   "source": [
    "Bon, on a fait un peu de maths sur nos milliardaires en les classant par âge, et voilà ce qu'on a trouvé. On a trois groupes : les jeunes, les adultes, et les... disons, expérimentés.\n",
    "\n",
    "- **Les adultes** sont à peu près partout. Ils ont une fortune médiane de **2.2 milliards**, avec un quart de chance d’avoir plus de **3.9 milliards**. Bref, c'est la catégorie « tranquille mais blindée ».\n",
    "\n",
    "- **Les jeunes** ? Eux, ils ont une médiane de **2.3 milliards**, légèrement mieux que les adultes, avec un petit air de « startup dans l'âme ». Et ouais, ils sont ambitieux, surtout avec un quart qui frôle les **4 milliards** !\n",
    "\n",
    "- **Les plus âgés**, quant à eux, ont un peu plus en moyenne, mais la fortune semble se calmer au-dessus de **2.5 milliards**. Peut-être parce que... après un moment, que peut-on bien acheter de plus ?\n",
    "\n",
    "En résumé, tout le monde est ultra-riche, mais la différence entre les jeunes et les adultes est infime, tandis que nos aînés ont une petite avance, mais pas spectaculaire."
   ]
  },
  {
   "cell_type": "markdown",
   "id": "d32884d1-4e70-4163-8f9b-d884b0982dc7",
   "metadata": {},
   "source": [
    "# Qui sont les 10 milliardaires les plus riches ? 👑"
   ]
  },
  {
   "cell_type": "code",
   "execution_count": 29,
   "id": "bf8e1833-8386-4049-818e-0f45353da6b1",
   "metadata": {},
   "outputs": [
    {
     "data": {
      "text/html": [
       "<div>\n",
       "<style scoped>\n",
       "    .dataframe tbody tr th:only-of-type {\n",
       "        vertical-align: middle;\n",
       "    }\n",
       "\n",
       "    .dataframe tbody tr th {\n",
       "        vertical-align: top;\n",
       "    }\n",
       "\n",
       "    .dataframe thead th {\n",
       "        text-align: right;\n",
       "    }\n",
       "</style>\n",
       "<table border=\"1\" class=\"dataframe\">\n",
       "  <thead>\n",
       "    <tr style=\"text-align: right;\">\n",
       "      <th></th>\n",
       "      <th>Name</th>\n",
       "      <th>NetWorth (B)</th>\n",
       "    </tr>\n",
       "  </thead>\n",
       "  <tbody>\n",
       "    <tr>\n",
       "      <th>0</th>\n",
       "      <td>Jeff Bezos</td>\n",
       "      <td>177.0</td>\n",
       "    </tr>\n",
       "    <tr>\n",
       "      <th>1</th>\n",
       "      <td>Elon Musk</td>\n",
       "      <td>151.0</td>\n",
       "    </tr>\n",
       "    <tr>\n",
       "      <th>2</th>\n",
       "      <td>Bernard Arnault &amp; family</td>\n",
       "      <td>150.0</td>\n",
       "    </tr>\n",
       "    <tr>\n",
       "      <th>3</th>\n",
       "      <td>Bill Gates</td>\n",
       "      <td>124.0</td>\n",
       "    </tr>\n",
       "    <tr>\n",
       "      <th>4</th>\n",
       "      <td>Mark Zuckerberg</td>\n",
       "      <td>97.0</td>\n",
       "    </tr>\n",
       "    <tr>\n",
       "      <th>5</th>\n",
       "      <td>Warren Buffett</td>\n",
       "      <td>96.0</td>\n",
       "    </tr>\n",
       "    <tr>\n",
       "      <th>6</th>\n",
       "      <td>Larry Ellison</td>\n",
       "      <td>93.0</td>\n",
       "    </tr>\n",
       "    <tr>\n",
       "      <th>7</th>\n",
       "      <td>Larry Page</td>\n",
       "      <td>91.5</td>\n",
       "    </tr>\n",
       "    <tr>\n",
       "      <th>8</th>\n",
       "      <td>Sergey Brin</td>\n",
       "      <td>89.0</td>\n",
       "    </tr>\n",
       "    <tr>\n",
       "      <th>9</th>\n",
       "      <td>Mukesh Ambani</td>\n",
       "      <td>84.5</td>\n",
       "    </tr>\n",
       "  </tbody>\n",
       "</table>\n",
       "</div>"
      ],
      "text/plain": [
       "                       Name  NetWorth (B)\n",
       "0                Jeff Bezos         177.0\n",
       "1                 Elon Musk         151.0\n",
       "2  Bernard Arnault & family         150.0\n",
       "3                Bill Gates         124.0\n",
       "4           Mark Zuckerberg          97.0\n",
       "5            Warren Buffett          96.0\n",
       "6             Larry Ellison          93.0\n",
       "7                Larry Page          91.5\n",
       "8               Sergey Brin          89.0\n",
       "9             Mukesh Ambani          84.5"
      ]
     },
     "execution_count": 29,
     "metadata": {},
     "output_type": "execute_result"
    }
   ],
   "source": [
    "top_10_milliardaires = df[['Name', 'NetWorth (B)']].head(10)\n",
    "top_10_milliardaires"
   ]
  },
  {
   "cell_type": "markdown",
   "id": "536ea429-8867-4f9e-a552-9200c62f4644",
   "metadata": {},
   "source": [
    "\r\n",
    "Accrochez-vous, on va parler des gros poissons du monde des milliardaires ! Voici le top 10 des personnes qui ont plus d'argent que certains pays :\r\n",
    "\r\n",
    "1. **Jeff Bezos** - **177.0 milliards $** : L'homme derrière Amazon, il peut littéralement s'acheter un pays... ou deux !\r\n",
    "   \r\n",
    "2. **Elon Musk** - **151.0 milliards $** : Le roi des technologies et des voitures électriques. Si quelqu'un peut acheter Mars, c'est bien lui.\r\n",
    "\r\n",
    "3. **Bernard Arnault & family** - **150.0 milliards $** : Le patron de LVMH, il fait briller le luxe comme personne.\r\n",
    "\r\n",
    "4. **Bill Gates** - **124.0 milliards $** : Le fondateur de Microsoft, un gars qui a révolutionné notre rapport à l'informatique et à la philanthropie.\r\n",
    "\r\n",
    "5. **Mark Zuckerberg** - **97.0 milliards $** : Le créateur de Facebook, il sait comment connecter le monde entier... et récolter des données.\r\n",
    "\r\n",
    "6. **Warren Buffett** - **96.0 milliards $** : Le sage des investissements, il est connu pour sa patience et sa sagesse financière.\r\n",
    "\r\n",
    "7. **Larry Ellison** - **93.0 milliards $** : Le fondateur d'Oracle, il a su tirer parti de la révolution technologique.\r\n",
    "\r\n",
    "8. **Larry Page** - **91.5 milliards $** : Un des co-fondateurs de Google, il a mis le monde à portée de clic.\r\n",
    "\r\n",
    "9. **Sergey Brin** - **89.0 milliards $** : L'autre co-fondateur de Google, il a aidé à bâtir le géant de la recherche en ligne.\r\n",
    "\r\n",
    "10. **Mukesh Ambani** - **84.5 milliards $** : Le magnat indien des télécommunications et de l'énergie, avec une présence énorme en Asie.\r\n",
    "\r\n",
    "Alors, qui aurait cru que l'argent pouvait autant lier ces personnalités ? Ils sont riches, influents et, avouons-le, un peu fascinants !\r\n"
   ]
  },
  {
   "cell_type": "markdown",
   "id": "2fac6650-60fd-4cef-8d7d-29e4e0a4c1ac",
   "metadata": {},
   "source": [
    "# Quelles industries ont les plus jeunes milliardaires ? "
   ]
  },
  {
   "cell_type": "code",
   "execution_count": 30,
   "id": "07dde8dc-59c8-41e7-b4cc-59e2cc2efdb9",
   "metadata": {},
   "outputs": [
    {
     "data": {
      "text/html": [
       "<div>\n",
       "<style scoped>\n",
       "    .dataframe tbody tr th:only-of-type {\n",
       "        vertical-align: middle;\n",
       "    }\n",
       "\n",
       "    .dataframe tbody tr th {\n",
       "        vertical-align: top;\n",
       "    }\n",
       "\n",
       "    .dataframe thead th {\n",
       "        text-align: right;\n",
       "    }\n",
       "</style>\n",
       "<table border=\"1\" class=\"dataframe\">\n",
       "  <thead>\n",
       "    <tr style=\"text-align: right;\">\n",
       "      <th></th>\n",
       "      <th>Source</th>\n",
       "      <th>Nombre de Jeunes Milliardaires</th>\n",
       "    </tr>\n",
       "  </thead>\n",
       "  <tbody>\n",
       "    <tr>\n",
       "      <th>51</th>\n",
       "      <td>fintech</td>\n",
       "      <td>8</td>\n",
       "    </tr>\n",
       "    <tr>\n",
       "      <th>39</th>\n",
       "      <td>diversified</td>\n",
       "      <td>8</td>\n",
       "    </tr>\n",
       "    <tr>\n",
       "      <th>90</th>\n",
       "      <td>real estate</td>\n",
       "      <td>6</td>\n",
       "    </tr>\n",
       "    <tr>\n",
       "      <th>66</th>\n",
       "      <td>investments</td>\n",
       "      <td>5</td>\n",
       "    </tr>\n",
       "    <tr>\n",
       "      <th>27</th>\n",
       "      <td>building materials</td>\n",
       "      <td>4</td>\n",
       "    </tr>\n",
       "    <tr>\n",
       "      <th>69</th>\n",
       "      <td>medical technology</td>\n",
       "      <td>4</td>\n",
       "    </tr>\n",
       "    <tr>\n",
       "      <th>36</th>\n",
       "      <td>cryptocurrency</td>\n",
       "      <td>4</td>\n",
       "    </tr>\n",
       "    <tr>\n",
       "      <th>0</th>\n",
       "      <td>Airbnb</td>\n",
       "      <td>3</td>\n",
       "    </tr>\n",
       "    <tr>\n",
       "      <th>117</th>\n",
       "      <td>video streaming app</td>\n",
       "      <td>3</td>\n",
       "    </tr>\n",
       "    <tr>\n",
       "      <th>93</th>\n",
       "      <td>retail</td>\n",
       "      <td>3</td>\n",
       "    </tr>\n",
       "  </tbody>\n",
       "</table>\n",
       "</div>"
      ],
      "text/plain": [
       "                  Source  Nombre de Jeunes Milliardaires\n",
       "51               fintech                               8\n",
       "39           diversified                               8\n",
       "90           real estate                               6\n",
       "66           investments                               5\n",
       "27    building materials                               4\n",
       "69    medical technology                               4\n",
       "36        cryptocurrency                               4\n",
       "0                 Airbnb                               3\n",
       "117  video streaming app                               3\n",
       "93                retail                               3"
      ]
     },
     "execution_count": 30,
     "metadata": {},
     "output_type": "execute_result"
    }
   ],
   "source": [
    "jeunes_par_industrie = df[df['Age Group'] == 'Jeune'].groupby('Source')['Name'].count().reset_index(name='Nombre de Jeunes Milliardaires').sort_values(by='Nombre de Jeunes Milliardaires',ascending=False)\n",
    "jeunes_par_industrie = jeunes_par_industrie.head(10)\n",
    "jeunes_par_industrie"
   ]
  },
  {
   "cell_type": "markdown",
   "id": "8114e509-0c9b-43be-bf7d-7fd2a5d80549",
   "metadata": {},
   "source": [
    "### Quelles industries ont les plus jeunes milliardaires ? \r\n",
    "\r\n",
    "Il est temps de découvrir où se cachent les jeunes milliardaires ! Voici les industries qui abritent les plus de jeunes pousses en termes de richesse :\r\n",
    "\r\n",
    "1. **Fintech** - **8 jeunes milliardaires** : Ces pros de la finance technologique savent comment faire fructifier leur argent, et ils n'ont même pas besoin de porter un costume-cravate.\r\n",
    "\r\n",
    "2. **Diversified** - **8 jeunes milliardaires** : Un peu de tout, un peu de rien. Ces jeunes sont des touche-à-tout qui investissent dans plusieurs domaines à la fois.\r\n",
    "\r\n",
    "3. **Immobilier (Real Estate)** - **6 jeunes milliardaires** : Ils ont trouvé le secret de l'immobilier et savent qu'un bon investissement peut rapporter gros.\r\n",
    "\r\n",
    "4. **Investissements** - **5 jeunes milliardaires** : Ces stratèges de l'argent jonglent avec les chiffres pour bâtir leur empire financier.\r\n",
    "\r\n",
    "5. **Matériaux de construction (Building Materials)** - **4 jeunes milliardaires** : Ils sont la clé de la construction moderne, et leur richesse monte en flèche.\r\n",
    "\r\n",
    "6. **Technologie médicale (Medical Technology)** - **4 jeunes milliardaires** : Ces innovateurs sont en première ligne pour changer la santé et la médecine.\r\n",
    "\r\n",
    "7. **Cryptomonnaie** - **4 jeunes milliardaires** : Ils surfent sur la vague des cryptos, prouvant que l'avenir de l'argent est numérique.\r\n",
    "\r\n",
    "8. **Airbnb** - **3 jeunes milliardaires** : Ils ont profité de la folie de la location à court terme et le monde du voyage n'est plus jamais le même.\r\n",
    "\r\n",
    "9. **Application de streaming vidéo** - **3 jeunes milliardaires** : Ils sont là pour le contenu, et avec les médias qui prennent d'assaut le monde, leur fortune ne fait que grandir.\r\n",
    "\r\n",
    "10. **Sauce de soja (Soy Sauce)** - **3 jeunes milliardaires** : Oui, vous avez bien lu ! Même dans la sauce de soja, il y a des milliardaires. Ils ont réussi à transformer un condiment en or.\r\n",
    "\r\n",
    "Ces industries montrent que l'innovation et l'audace peuvent mener à la richesse, et cela commence souvent très jeune !\r\n"
   ]
  },
  {
   "cell_type": "markdown",
   "id": "cf68995f-32fa-4e54-9533-b1f4fb44ab80",
   "metadata": {},
   "source": [
    "# Combien de milliardaires ont une fortune au-dessus de la moyenne mondiale ? 📈"
   ]
  },
  {
   "cell_type": "code",
   "execution_count": 31,
   "id": "03e212c1-acd2-41f2-97f9-88b646474b8f",
   "metadata": {},
   "outputs": [
    {
     "data": {
      "text/plain": [
       "607"
      ]
     },
     "execution_count": 31,
     "metadata": {},
     "output_type": "execute_result"
    }
   ],
   "source": [
    "moyenne_mondiale = df['NetWorth (B)'].mean()\n",
    "milliardaires_au_dessus_moyenne = df[df['NetWorth (B)'] > moyenne_mondiale].shape[0]\n",
    "milliardaires_au_dessus_moyenne"
   ]
  },
  {
   "cell_type": "markdown",
   "id": "9c512bdd-2475-4935-b0f6-824912af52ab",
   "metadata": {},
   "source": [
    "Oh là là ! Le résultat que j'ai obtenu, **607**, signifie qu'il y a 607 milliardaires ayant une fortune au-dessus de la moyenne mondiale ! 🌍💰\n",
    "\n",
    "Je pourrais organiser une fête avec eux, mais ça risque d'être une fête super riche "
   ]
  },
  {
   "cell_type": "markdown",
   "id": "89413f56-9127-457e-9530-91bd915b8872",
   "metadata": {},
   "source": [
    "---\n",
    "---\n",
    "---"
   ]
  },
  {
   "cell_type": "markdown",
   "id": "6da16a4a-a16e-4e72-af16-2788f083478e",
   "metadata": {},
   "source": [
    "# Fin de la deuxième étape de l'analyse 🚀\r\n",
    "\r\n",
    "Eh bien, j'ai terminé l'analyse pour la deuxième étape avec le langage Python ! 🐍💻\r\n",
    "\r\n",
    "Maintenant, je vais passer à la dernière étape, qui est la création d'un tableau de bord interactif avec Power BI ! 📊✨\r\n",
    "\r\n",
    "J'espère que tout est clair et je suis impatient de commencer cette nouvelle étape !\r\n"
   ]
  },
  {
   "cell_type": "markdown",
   "id": "58b1c4f5-6e3b-4fb8-a2d6-574b6d04f8eb",
   "metadata": {},
   "source": [
    "Je vous attendrai là-bas !...........\n"
   ]
  },
  {
   "cell_type": "code",
   "execution_count": 32,
   "id": "02161f04-1499-4b56-a1b6-0dfd2ac62282",
   "metadata": {},
   "outputs": [
    {
     "ename": "AttributeError",
     "evalue": "'int' object has no attribute 'to_excel'",
     "output_type": "error",
     "traceback": [
      "\u001b[1;31m---------------------------------------------------------------------------\u001b[0m",
      "\u001b[1;31mAttributeError\u001b[0m                            Traceback (most recent call last)",
      "Cell \u001b[1;32mIn[32], line 9\u001b[0m\n\u001b[0;32m      7\u001b[0m top_10_moyenne_pays\u001b[38;5;241m.\u001b[39mto_excel(\u001b[38;5;124mf\u001b[39m\u001b[38;5;124m'\u001b[39m\u001b[38;5;132;01m{\u001b[39;00mchemin\u001b[38;5;132;01m}\u001b[39;00m\u001b[38;5;124m/top_10_moyenne_pays.xlsx\u001b[39m\u001b[38;5;124m'\u001b[39m, index\u001b[38;5;241m=\u001b[39m\u001b[38;5;28;01mFalse\u001b[39;00m)\n\u001b[0;32m      8\u001b[0m top_10_riches\u001b[38;5;241m.\u001b[39mto_excel(\u001b[38;5;124mf\u001b[39m\u001b[38;5;124m'\u001b[39m\u001b[38;5;132;01m{\u001b[39;00mchemin\u001b[38;5;132;01m}\u001b[39;00m\u001b[38;5;124m/top_10_riches.xlsx\u001b[39m\u001b[38;5;124m'\u001b[39m, index\u001b[38;5;241m=\u001b[39m\u001b[38;5;28;01mFalse\u001b[39;00m)\n\u001b[1;32m----> 9\u001b[0m \u001b[43mmilliardaire_jeunes\u001b[49m\u001b[38;5;241;43m.\u001b[39;49m\u001b[43mto_excel\u001b[49m(\u001b[38;5;124mf\u001b[39m\u001b[38;5;124m'\u001b[39m\u001b[38;5;132;01m{\u001b[39;00mchemin\u001b[38;5;132;01m}\u001b[39;00m\u001b[38;5;124m/milliardaire_jeunes.xlsx\u001b[39m\u001b[38;5;124m'\u001b[39m, index\u001b[38;5;241m=\u001b[39m\u001b[38;5;28;01mFalse\u001b[39;00m)\n\u001b[0;32m     10\u001b[0m plus_jeune_milliardaire\u001b[38;5;241m.\u001b[39mto_excel(\u001b[38;5;124mf\u001b[39m\u001b[38;5;124m'\u001b[39m\u001b[38;5;132;01m{\u001b[39;00mchemin\u001b[38;5;132;01m}\u001b[39;00m\u001b[38;5;124m/plus_jeune_milliardaire.xlsx\u001b[39m\u001b[38;5;124m'\u001b[39m, index\u001b[38;5;241m=\u001b[39m\u001b[38;5;28;01mFalse\u001b[39;00m)\n\u001b[0;32m     11\u001b[0m meme_source\u001b[38;5;241m.\u001b[39mto_excel(\u001b[38;5;124mf\u001b[39m\u001b[38;5;124m'\u001b[39m\u001b[38;5;132;01m{\u001b[39;00mchemin\u001b[38;5;132;01m}\u001b[39;00m\u001b[38;5;124m/meme_source.xlsx\u001b[39m\u001b[38;5;124m'\u001b[39m, index\u001b[38;5;241m=\u001b[39m\u001b[38;5;28;01mFalse\u001b[39;00m)\n",
      "\u001b[1;31mAttributeError\u001b[0m: 'int' object has no attribute 'to_excel'"
     ]
    }
   ],
   "source": [
    "\n",
    "# Definir le chemin mis à jour\n",
    "chemin = r'C:\\Users\\Lenovo\\Desktop\\Project Aymen\\Billionaires Analysis with Python\\Data From Python'\n",
    "\n",
    "# Sauvegarder chaque DataFrame en fichier Excel\n",
    "milliardaires_industrie.to_excel(f'{chemin}/milliardaires_industrie.xlsx', index=False)\n",
    "top_10_pays.to_excel(f'{chemin}/top_10_pays.xlsx', index=False)\n",
    "top_10_moyenne_pays.to_excel(f'{chemin}/top_10_moyenne_pays.xlsx', index=False)\n",
    "top_10_riches.to_excel(f'{chemin}/top_10_riches.xlsx', index=False)\n",
    "milliardaire_jeunes.to_excel(f'{chemin}/milliardaire_jeunes.xlsx', index=False)\n",
    "plus_jeune_milliardaire.to_excel(f'{chemin}/plus_jeune_milliardaire.xlsx', index=False)\n",
    "meme_source.to_excel(f'{chemin}/meme_source.xlsx', index=False)\n",
    "correlation_spearman.to_excel(f'{chemin}/correlation_spearman.xlsx', index=False)\n",
    "quartiles_fortune_age.to_excel(f'{chemin}/quartiles_fortune_age.xlsx', index=False)\n",
    "top_10_milliardaires.to_excel(f'{chemin}/top_10_milliardaires.xlsx', index=False)\n",
    "jeunes_par_industrie.to_excel(f'{chemin}/jeunes_par_industrie.xlsx', index=False)\n",
    "milliardaires_au_dessus_moyenne.to_excel(f'{chemin}/milliardaires_au_dessus_moyenne.xlsx', index=False)\n",
    "\n",
    "print(\"Les fichiers Excel ont été sauvegardés avec succès dans le chemin spécifié.\")\n"
   ]
  }
 ],
 "metadata": {
  "kernelspec": {
   "display_name": "Python 3 (ipykernel)",
   "language": "python",
   "name": "python3"
  },
  "language_info": {
   "codemirror_mode": {
    "name": "ipython",
    "version": 3
   },
   "file_extension": ".py",
   "mimetype": "text/x-python",
   "name": "python",
   "nbconvert_exporter": "python",
   "pygments_lexer": "ipython3",
   "version": "3.12.7"
  }
 },
 "nbformat": 4,
 "nbformat_minor": 5
}
